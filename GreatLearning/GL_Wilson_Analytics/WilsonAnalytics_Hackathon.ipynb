{
 "cells": [
  {
   "cell_type": "code",
   "execution_count": 43,
   "id": "419c7aa6",
   "metadata": {},
   "outputs": [],
   "source": [
    "# Packages \n",
    "import warnings\n",
    "warnings.filterwarnings(\"ignore\")\n",
    "\n",
    "import pandas as pd\n",
    "import numpy as np\n",
    "import matplotlib.pyplot as plt\n",
    "import seaborn as sns\n",
    "import time\n",
    "import datetime as dt\n",
    "\n",
    "# Data Cleaning\n",
    "import regex as re \n",
    "from skimpy import clean_columns\n",
    "\n",
    "# Additional Plots \n",
    "from plotnine import ggplot, geom_point, aes, geom_smooth, facet_wrap, labs, theme_bw,scale_fill_manual, scale_fill_discrete\n",
    "# from plotnine.data import mtcars\n",
    "\n",
    "\n",
    "# To scale the data using z-score \n",
    "from sklearn.preprocessing import StandardScaler\n",
    "from sklearn.preprocessing import MinMaxScaler\n",
    "from sklearn.preprocessing import RobustScaler\n",
    "\n",
    "from scipy.stats import zscore\n",
    "\n",
    "\n",
    "# Algorithms to use\n",
    "from sklearn.linear_model import LogisticRegression\n",
    "from sklearn.neighbors import KNeighborsClassifier\n",
    "from sklearn import tree\n",
    "# !pip install xgboost --user\n",
    "import xgboost as xgb\n",
    "\n",
    "\n",
    "from sklearn.discriminant_analysis import LinearDiscriminantAnalysis\n",
    "from sklearn.discriminant_analysis import QuadraticDiscriminantAnalysis\n",
    "from sklearn.tree import DecisionTreeClassifier\n",
    "from sklearn.ensemble import BaggingClassifier\n",
    "from sklearn.ensemble import RandomForestClassifier\n",
    "\n",
    "# To tune the model\n",
    "from sklearn.model_selection import KFold, GridSearchCV, train_test_split\n",
    "\n",
    "\n",
    "# Metrics to evaluate the model (CART Models)\n",
    "from sklearn import metrics\n",
    "from sklearn.metrics import mean_squared_error, accuracy_score, make_scorer\n",
    "\n",
    "import random # Random to set a seed\n",
    "\n",
    "\n",
    "# Metrics to evaluate the model\n",
    "from sklearn.metrics import confusion_matrix, classification_report, precision_recall_curve, roc_curve, roc_auc_score, recall_score\n"
   ]
  },
  {
   "cell_type": "code",
   "execution_count": 44,
   "id": "5c779cb7",
   "metadata": {},
   "outputs": [],
   "source": [
    "# Functions \n",
    "def metrics_score(actual, predicted):\n",
    "    print(classification_report(actual, predicted))\n",
    "    \n",
    "    cm = confusion_matrix(actual, predicted)\n",
    "    \n",
    "    plt.figure(figsize = (8, 5))\n",
    "    \n",
    "    sns.heatmap(cm, annot = True,  fmt = '.6f', \n",
    "                xticklabels = ['Not Defaulted', 'Defaulted'], \n",
    "                yticklabels = ['Not Defaulted', 'Defaulted'])\n",
    "    \n",
    "    plt.ylabel('Actual',fontweight='bold')\n",
    "    \n",
    "    plt.xlabel('Predicted', fontweight='bold')\n",
    "    \n",
    "    plt.show()\n",
    "    \n",
    "\n",
    "    \n",
    "def scatter_plot(x_val,y_val):\n",
    "    plot = ggplot(df_copy, aes(str(x_val), str(y_val), color='factor(BAD)')) # x-axis y-axis\n",
    "    print(plot + geom_point() + theme_bw() +  facet_wrap('~BAD', labeller = {\"0\":'Loan Repaid',\"1\":'Defaulter'}) \\\n",
    "               + labs(x = x_val, y = y_val, title = x_val + \" VS. \" + y_val)\n",
    "               )\n",
    "    \n",
    "    \n",
    "    \n",
    "def AUC_ROC_Graph(model,model_name,data, thres_hold=0.5):\n",
    "    y_pred_proba = model.predict_proba(data)[::,1]\n",
    "    fpr, tpr, _ = roc_curve(y_test, y_pred_proba)\n",
    "    auc = roc_auc_score(y_test,y_pred_proba)\n",
    "    \n",
    "    #create ROC curve\n",
    "    plt.figure(figsize = (8, 5))\n",
    "    plt.plot(fpr,tpr,label=\"AUC = \"+ str(round(auc,8)))\n",
    "    plt.title(str(model_name) +\" ROC-AUC Graph\", fontweight='bold')\n",
    "    plt.ylabel('True Positive Rate', fontweight='bold')\n",
    "    plt.xlabel('False Positive Rate', fontweight='bold')\n",
    "    plt.legend(loc=4)\n",
    "    plt.show()\n",
    "    \n",
    "def AUC_score(model,data):    \n",
    "    y_pred_proba = model.predict_proba(data)[::,1]\n",
    "    auc = roc_auc_score(y_test, y_pred_proba) \n",
    "\n",
    "    return auc \n",
    "\n",
    "\n",
    "def get_recall_score(model,flag,X_train,X_test):\n",
    "    '''\n",
    "    model : classifier to predict values of X\n",
    "\n",
    "    '''\n",
    "    a = [] # defining an empty list to store train and test results\n",
    "    pred_train = model.predict(X_train)\n",
    "    pred_test = model.predict(X_test)\n",
    "    train_recall = metrics.recall_score(y_train,pred_train)\n",
    "    test_recall = metrics.recall_score(y_test,pred_test)\n",
    "    a.append(train_recall) # adding train recall to list \n",
    "    a.append(test_recall) # adding test recall to list\n",
    "    \n",
    "    # If the flag is set to True then only the following print statements will be dispayed. The default value is set to True.\n",
    "    if flag == True: \n",
    "        print(\"Recall on training set : \",metrics.recall_score(y_train,pred_train))\n",
    "        print(\"Recall on test set : \",metrics.recall_score(y_test,pred_test))\n",
    "    \n",
    "    return a # returning the list with train and test scores\n",
    "\n",
    "##  Function to calculate precision score\n",
    "def get_precision_score(model,flag,X_train,X_test):\n",
    "    '''\n",
    "    model : classifier to predict values of X\n",
    "\n",
    "    '''\n",
    "    b = []  # defining an empty list to store train and test results\n",
    "    pred_train = model.predict(X_train)\n",
    "    pred_test = model.predict(X_test)\n",
    "    train_precision = metrics.precision_score(y_train,pred_train)\n",
    "    test_precision = metrics.precision_score(y_test,pred_test)\n",
    "    b.append(train_precision) # adding train precision to list\n",
    "    b.append(test_precision) # adding test precision to list\n",
    "    \n",
    "    # If the flag is set to True then only the following print statements will be dispayed. The default value is set to True.\n",
    "    if flag == True: \n",
    "        print(\"Precision on training set : \",metrics.precision_score(y_train,pred_train))\n",
    "        print(\"Precision on test set : \",metrics.precision_score(y_test,pred_test))\n",
    "\n",
    "    return b # returning the list with train and test scores\n",
    "\n",
    "\n",
    "##  Function to calculate accuracy score\n",
    "def get_accuracy_score(model,flag,X_train,X_test):\n",
    "    '''\n",
    "    model : classifier to predict values of X\n",
    "\n",
    "    '''\n",
    "    c = [] # defining an empty list to store train and test results\n",
    "    train_acc = model.score(X_train,y_train)\n",
    "    test_acc = model.score(X_test,y_test)\n",
    "    c.append(train_acc) # adding train accuracy to list\n",
    "    c.append(test_acc) # adding test accuracy to list\n",
    "    \n",
    "    # If the flag is set to True then only the following print statements will be dispayed. The default value is set to True.\n",
    "    if flag == True:\n",
    "        print(\"Accuracy on training set : \",model.score(X_train,y_train))\n",
    "        print(\"Accuracy on test set : \",model.score(X_test,y_test))\n",
    "    \n",
    "    return c # returning the list with train and test scores\n",
    "       "
   ]
  },
  {
   "cell_type": "code",
   "execution_count": 45,
   "id": "d40b8825",
   "metadata": {},
   "outputs": [],
   "source": [
    "# Reading In the Data\n",
    "train_df = 'training_data.csv'\n",
    "test_df = 'testing_data.csv'\n",
    "\n",
    "\n",
    "\n",
    "train = pd.read_csv(train_df)\n",
    "test = pd.read_csv(test_df)"
   ]
  },
  {
   "cell_type": "code",
   "execution_count": 46,
   "id": "c88ea715",
   "metadata": {},
   "outputs": [
    {
     "name": "stdout",
     "output_type": "stream",
     "text": [
      "<class 'pandas.core.frame.DataFrame'>\n",
      "RangeIndex: 105000 entries, 0 to 104999\n",
      "Data columns (total 26 columns):\n",
      " #   Column                     Non-Null Count   Dtype \n",
      "---  ------                     --------------   ----- \n",
      " 0   ID                         105000 non-null  int64 \n",
      " 1   Date_Of_Disbursement       104765 non-null  object\n",
      " 2   Business                   104985 non-null  object\n",
      " 3   Jobs_Reatained             105000 non-null  int64 \n",
      " 4   Jobs_Created               105000 non-null  int64 \n",
      " 5   Year_Of_Commitment         105000 non-null  object\n",
      " 6   Guaranteed_Approved _Loan  105000 non-null  object\n",
      " 7   Borrower_Name              104997 non-null  object\n",
      " 8   Low_Documentation_Loan     104633 non-null  object\n",
      " 9   Demography                 105000 non-null  object\n",
      " 10  State_Of_Bank              105000 non-null  object\n",
      " 11  ChargedOff_Amount          105000 non-null  object\n",
      " 12  Borrower_City              105000 non-null  object\n",
      " 13  Borrower_State             105000 non-null  object\n",
      " 14  Gross_Amount_Balance       105000 non-null  object\n",
      " 15  Count_Employees            105000 non-null  int64 \n",
      " 16  Classification_Code        105000 non-null  int64 \n",
      " 17  Loan_Approved_Gross        105000 non-null  object\n",
      " 18  Gross_Amount_Disbursed     105000 non-null  object\n",
      " 19  Loan_Term                  105000 non-null  int64 \n",
      " 20  Commitment_Date            105000 non-null  object\n",
      " 21  Primary_Loan_Digit         105000 non-null  int64 \n",
      " 22  Code_Franchise             105000 non-null  int64 \n",
      " 23  Name_Of_Bank               105000 non-null  object\n",
      " 24  Revolving_Credit_Line      104509 non-null  object\n",
      " 25  Default                    105000 non-null  int64 \n",
      "dtypes: int64(9), object(17)\n",
      "memory usage: 20.8+ MB\n"
     ]
    }
   ],
   "source": [
    "train.info()"
   ]
  },
  {
   "cell_type": "code",
   "execution_count": 47,
   "id": "27980226",
   "metadata": {},
   "outputs": [
    {
     "name": "stdout",
     "output_type": "stream",
     "text": [
      "<class 'pandas.core.frame.DataFrame'>\n",
      "RangeIndex: 45000 entries, 0 to 44999\n",
      "Data columns (total 25 columns):\n",
      " #   Column                     Non-Null Count  Dtype \n",
      "---  ------                     --------------  ----- \n",
      " 0   ID                         45000 non-null  int64 \n",
      " 1   Date_Of_Disbursement       44892 non-null  object\n",
      " 2   Business                   44994 non-null  object\n",
      " 3   Jobs_Reatained             45000 non-null  int64 \n",
      " 4   Jobs_Created               45000 non-null  int64 \n",
      " 5   Year_Of_Commitment         45000 non-null  object\n",
      " 6   Guaranteed_Approved _Loan  45000 non-null  object\n",
      " 7   Borrower_Name              44998 non-null  object\n",
      " 8   Low_Documentation_Loan     44867 non-null  object\n",
      " 9   Demography                 45000 non-null  object\n",
      " 10  State_Of_Bank              45000 non-null  object\n",
      " 11  ChargedOff_Amount          45000 non-null  object\n",
      " 12  Borrower_City              45000 non-null  object\n",
      " 13  Borrower_State             44951 non-null  object\n",
      " 14  Gross_Amount_Balance       45000 non-null  object\n",
      " 15  Count_Employees            45000 non-null  int64 \n",
      " 16  Classification_Code        45000 non-null  int64 \n",
      " 17  Loan_Approved_Gross        45000 non-null  object\n",
      " 18  Gross_Amount_Disbursed     45000 non-null  object\n",
      " 19  Loan_Term                  45000 non-null  int64 \n",
      " 20  Commitment_Date            45000 non-null  object\n",
      " 21  Primary_Loan_Digit         45000 non-null  int64 \n",
      " 22  Code_Franchise             45000 non-null  int64 \n",
      " 23  Name_Of_Bank               45000 non-null  object\n",
      " 24  Revolving_Credit_Line      31175 non-null  object\n",
      "dtypes: int64(8), object(17)\n",
      "memory usage: 8.6+ MB\n"
     ]
    }
   ],
   "source": [
    "test.info()"
   ]
  },
  {
   "cell_type": "markdown",
   "id": "f3dd281a",
   "metadata": {},
   "source": [
    "# Data Wrangling / Exploratory Data Analysis"
   ]
  },
  {
   "cell_type": "code",
   "execution_count": 48,
   "id": "67fd5fc6",
   "metadata": {},
   "outputs": [
    {
     "name": "stdout",
     "output_type": "stream",
     "text": [
      "<class 'pandas.core.frame.DataFrame'>\n",
      "Int64Index: 150000 entries, 0 to 44999\n",
      "Data columns (total 26 columns):\n",
      " #   Column                  Non-Null Count   Dtype  \n",
      "---  ------                  --------------   -----  \n",
      " 0   Id                      150000 non-null  int64  \n",
      " 1   DateOfDisbursement      149657 non-null  object \n",
      " 2   Business                149979 non-null  object \n",
      " 3   JobsReatained           150000 non-null  int64  \n",
      " 4   JobsCreated             150000 non-null  int64  \n",
      " 5   YearOfCommitment        150000 non-null  object \n",
      " 6   GuaranteedApprovedLoan  150000 non-null  object \n",
      " 7   BorrowerName            149995 non-null  object \n",
      " 8   LowDocumentationLoan    149500 non-null  object \n",
      " 9   Demography              150000 non-null  object \n",
      " 10  StateOfBank             150000 non-null  object \n",
      " 11  ChargedOffAmount        150000 non-null  object \n",
      " 12  BorrowerCity            150000 non-null  object \n",
      " 13  BorrowerState           149951 non-null  object \n",
      " 14  GrossAmountBalance      150000 non-null  object \n",
      " 15  CountEmployees          150000 non-null  int64  \n",
      " 16  ClassificationCode      150000 non-null  int64  \n",
      " 17  LoanApprovedGross       150000 non-null  object \n",
      " 18  GrossAmountDisbursed    150000 non-null  object \n",
      " 19  LoanTerm                150000 non-null  int64  \n",
      " 20  CommitmentDate          150000 non-null  object \n",
      " 21  PrimaryLoanDigit        150000 non-null  int64  \n",
      " 22  CodeFranchise           150000 non-null  int64  \n",
      " 23  NameOfBank              150000 non-null  object \n",
      " 24  RevolvingCreditLine     135684 non-null  object \n",
      " 25  Default                 105000 non-null  float64\n",
      "dtypes: float64(1), int64(8), object(17)\n",
      "memory usage: 30.9+ MB\n"
     ]
    }
   ],
   "source": [
    "combine_df = pd.concat([train, test], axis=0)\n",
    "combine_df = clean_columns(combine_df, case = 'pascal') # Cleaning the spacing within the columns\n",
    "combine_df.info()"
   ]
  },
  {
   "cell_type": "code",
   "execution_count": 49,
   "id": "bbc5a322",
   "metadata": {},
   "outputs": [
    {
     "data": {
      "text/html": [
       "<div>\n",
       "<style scoped>\n",
       "    .dataframe tbody tr th:only-of-type {\n",
       "        vertical-align: middle;\n",
       "    }\n",
       "\n",
       "    .dataframe tbody tr th {\n",
       "        vertical-align: top;\n",
       "    }\n",
       "\n",
       "    .dataframe thead th {\n",
       "        text-align: right;\n",
       "    }\n",
       "</style>\n",
       "<table border=\"1\" class=\"dataframe\">\n",
       "  <thead>\n",
       "    <tr style=\"text-align: right;\">\n",
       "      <th></th>\n",
       "      <th>Id</th>\n",
       "      <th>DateOfDisbursement</th>\n",
       "      <th>Business</th>\n",
       "      <th>JobsReatained</th>\n",
       "      <th>JobsCreated</th>\n",
       "      <th>YearOfCommitment</th>\n",
       "      <th>GuaranteedApprovedLoan</th>\n",
       "      <th>BorrowerName</th>\n",
       "      <th>LowDocumentationLoan</th>\n",
       "      <th>Demography</th>\n",
       "      <th>...</th>\n",
       "      <th>ClassificationCode</th>\n",
       "      <th>LoanApprovedGross</th>\n",
       "      <th>GrossAmountDisbursed</th>\n",
       "      <th>LoanTerm</th>\n",
       "      <th>CommitmentDate</th>\n",
       "      <th>PrimaryLoanDigit</th>\n",
       "      <th>CodeFranchise</th>\n",
       "      <th>NameOfBank</th>\n",
       "      <th>RevolvingCreditLine</th>\n",
       "      <th>Default</th>\n",
       "    </tr>\n",
       "  </thead>\n",
       "  <tbody>\n",
       "    <tr>\n",
       "      <th>0</th>\n",
       "      <td>0</td>\n",
       "      <td>31-Jul-91</td>\n",
       "      <td>Existing</td>\n",
       "      <td>0</td>\n",
       "      <td>0</td>\n",
       "      <td>1991</td>\n",
       "      <td>Rs.33121600.0</td>\n",
       "      <td>STANDARD PARTS CORPORATION</td>\n",
       "      <td>No</td>\n",
       "      <td>Undefined</td>\n",
       "      <td>...</td>\n",
       "      <td>0</td>\n",
       "      <td>Rs.40640000.0</td>\n",
       "      <td>Rs.40640000.0</td>\n",
       "      <td>126</td>\n",
       "      <td>2-Apr-91</td>\n",
       "      <td>4419763001</td>\n",
       "      <td>1</td>\n",
       "      <td>Axis Bank Ltd.</td>\n",
       "      <td>No</td>\n",
       "      <td>0.0</td>\n",
       "    </tr>\n",
       "    <tr>\n",
       "      <th>1</th>\n",
       "      <td>1</td>\n",
       "      <td>30-Apr-06</td>\n",
       "      <td>New</td>\n",
       "      <td>0</td>\n",
       "      <td>6</td>\n",
       "      <td>2006</td>\n",
       "      <td>Rs.32735520.0</td>\n",
       "      <td>FRANK &amp; KERI AMESTOY</td>\n",
       "      <td>No</td>\n",
       "      <td>Urban</td>\n",
       "      <td>...</td>\n",
       "      <td>451120</td>\n",
       "      <td>Rs.43647360.0</td>\n",
       "      <td>Rs.43647360.0</td>\n",
       "      <td>123</td>\n",
       "      <td>10-Apr-06</td>\n",
       "      <td>1709796003</td>\n",
       "      <td>1</td>\n",
       "      <td>Bandhan Bank Ltd.</td>\n",
       "      <td>0</td>\n",
       "      <td>1.0</td>\n",
       "    </tr>\n",
       "    <tr>\n",
       "      <th>2</th>\n",
       "      <td>2</td>\n",
       "      <td>30-Jun-04</td>\n",
       "      <td>Existing</td>\n",
       "      <td>4</td>\n",
       "      <td>0</td>\n",
       "      <td>2004</td>\n",
       "      <td>Rs.1422400.0</td>\n",
       "      <td>TELECOMMQC L L C</td>\n",
       "      <td>No</td>\n",
       "      <td>Urban</td>\n",
       "      <td>...</td>\n",
       "      <td>541618</td>\n",
       "      <td>Rs.2844800.0</td>\n",
       "      <td>Rs.5961400.32</td>\n",
       "      <td>90</td>\n",
       "      <td>25-May-04</td>\n",
       "      <td>7464754008</td>\n",
       "      <td>1</td>\n",
       "      <td>CSB Bank Limited</td>\n",
       "      <td>Yes</td>\n",
       "      <td>0.0</td>\n",
       "    </tr>\n",
       "  </tbody>\n",
       "</table>\n",
       "<p>3 rows × 26 columns</p>\n",
       "</div>"
      ],
      "text/plain": [
       "   Id DateOfDisbursement  Business  JobsReatained  JobsCreated  \\\n",
       "0   0          31-Jul-91  Existing              0            0   \n",
       "1   1          30-Apr-06       New              0            6   \n",
       "2   2          30-Jun-04  Existing              4            0   \n",
       "\n",
       "  YearOfCommitment GuaranteedApprovedLoan                BorrowerName  \\\n",
       "0             1991          Rs.33121600.0  STANDARD PARTS CORPORATION   \n",
       "1             2006          Rs.32735520.0        FRANK & KERI AMESTOY   \n",
       "2             2004           Rs.1422400.0            TELECOMMQC L L C   \n",
       "\n",
       "  LowDocumentationLoan Demography  ... ClassificationCode LoanApprovedGross  \\\n",
       "0                   No  Undefined  ...                  0     Rs.40640000.0   \n",
       "1                   No      Urban  ...             451120     Rs.43647360.0   \n",
       "2                   No      Urban  ...             541618      Rs.2844800.0   \n",
       "\n",
       "  GrossAmountDisbursed LoanTerm CommitmentDate  PrimaryLoanDigit  \\\n",
       "0        Rs.40640000.0      126       2-Apr-91        4419763001   \n",
       "1        Rs.43647360.0      123      10-Apr-06        1709796003   \n",
       "2        Rs.5961400.32       90      25-May-04        7464754008   \n",
       "\n",
       "   CodeFranchise         NameOfBank RevolvingCreditLine  Default  \n",
       "0              1     Axis Bank Ltd.                  No      0.0  \n",
       "1              1  Bandhan Bank Ltd.                   0      1.0  \n",
       "2              1   CSB Bank Limited                 Yes      0.0  \n",
       "\n",
       "[3 rows x 26 columns]"
      ]
     },
     "execution_count": 49,
     "metadata": {},
     "output_type": "execute_result"
    }
   ],
   "source": [
    "combine_df.head(3)"
   ]
  },
  {
   "cell_type": "code",
   "execution_count": 50,
   "id": "69cc8e60",
   "metadata": {},
   "outputs": [
    {
     "name": "stdout",
     "output_type": "stream",
     "text": [
      "Numeric Cols NAs\n"
     ]
    },
    {
     "data": {
      "text/plain": [
       "Id                        0\n",
       "JobsReatained             0\n",
       "JobsCreated               0\n",
       "CountEmployees            0\n",
       "ClassificationCode        0\n",
       "LoanTerm                  0\n",
       "PrimaryLoanDigit          0\n",
       "CodeFranchise             0\n",
       "Default               45000\n",
       "dtype: int64"
      ]
     },
     "execution_count": 50,
     "metadata": {},
     "output_type": "execute_result"
    }
   ],
   "source": [
    "print('Numeric Cols NAs')\n",
    "combine_df.loc[:,(combine_df.dtypes == 'int') | (combine_df.dtypes == 'float')].isna().sum()"
   ]
  },
  {
   "cell_type": "code",
   "execution_count": 51,
   "id": "e6637a46",
   "metadata": {},
   "outputs": [
    {
     "name": "stdout",
     "output_type": "stream",
     "text": [
      "Object Cols NAs\n"
     ]
    },
    {
     "data": {
      "text/plain": [
       "DateOfDisbursement          343\n",
       "Business                     21\n",
       "YearOfCommitment              0\n",
       "GuaranteedApprovedLoan        0\n",
       "BorrowerName                  5\n",
       "LowDocumentationLoan        500\n",
       "Demography                    0\n",
       "StateOfBank                   0\n",
       "ChargedOffAmount              0\n",
       "BorrowerCity                  0\n",
       "BorrowerState                49\n",
       "GrossAmountBalance            0\n",
       "LoanApprovedGross             0\n",
       "GrossAmountDisbursed          0\n",
       "CommitmentDate                0\n",
       "NameOfBank                    0\n",
       "RevolvingCreditLine       14316\n",
       "dtype: int64"
      ]
     },
     "execution_count": 51,
     "metadata": {},
     "output_type": "execute_result"
    }
   ],
   "source": [
    "print('Object Cols NAs')\n",
    "combine_df.loc[:,(combine_df.dtypes == 'object')].isna().sum()"
   ]
  },
  {
   "cell_type": "code",
   "execution_count": 52,
   "id": "0deefc5e",
   "metadata": {
    "scrolled": true
   },
   "outputs": [
    {
     "name": "stdout",
     "output_type": "stream",
     "text": [
      "Pre-Transformation\n",
      "0            Rs.0.0\n",
      "1    Rs.38283367.68\n",
      "2            Rs.0.0\n",
      "3            Rs.0.0\n",
      "4    Rs.22862519.68\n",
      "Name: ChargedOffAmount, dtype: object \n",
      "\n",
      "Post-Transformation\n",
      "0           0.00\n",
      "1    38283367.68\n",
      "2           0.00\n",
      "3           0.00\n",
      "4    22862519.68\n",
      "Name: ChargedOffAmount, dtype: float64 \n",
      "\n",
      "Pre-Transformation\n",
      "0    Rs.33121600.0\n",
      "1    Rs.32735520.0\n",
      "2     Rs.1422400.0\n",
      "3     Rs.2032000.0\n",
      "4    Rs.22981920.0\n",
      "Name: GuaranteedApprovedLoan, dtype: object \n",
      "\n",
      "Post-Transformation\n",
      "0    33121600.0\n",
      "1    32735520.0\n",
      "2     1422400.0\n",
      "3     2032000.0\n",
      "4    22981920.0\n",
      "Name: GuaranteedApprovedLoan, dtype: float64 \n",
      "\n",
      "Pre-Transformation\n",
      "0    Rs.0.0\n",
      "1    Rs.0.0\n",
      "2    Rs.0.0\n",
      "3    Rs.0.0\n",
      "4    Rs.0.0\n",
      "Name: GrossAmountBalance, dtype: object \n",
      "\n",
      "Post-Transformation\n",
      "0    0.0\n",
      "1    0.0\n",
      "2    0.0\n",
      "3    0.0\n",
      "4    0.0\n",
      "Name: GrossAmountBalance, dtype: float64 \n",
      "\n",
      "Pre-Transformation\n",
      "0    Rs.40640000.0\n",
      "1    Rs.43647360.0\n",
      "2     Rs.2844800.0\n",
      "3     Rs.4064000.0\n",
      "4    Rs.30642560.0\n",
      "Name: LoanApprovedGross, dtype: object \n",
      "\n",
      "Post-Transformation\n",
      "0    40640000.0\n",
      "1    43647360.0\n",
      "2     2844800.0\n",
      "3     4064000.0\n",
      "4    30642560.0\n",
      "Name: LoanApprovedGross, dtype: float64 \n",
      "\n",
      "Pre-Transformation\n",
      "0    Rs.40640000.0\n",
      "1    Rs.43647360.0\n",
      "2    Rs.5961400.32\n",
      "3     Rs.4064000.0\n",
      "4    Rs.30642560.0\n",
      "Name: GrossAmountDisbursed, dtype: object \n",
      "\n",
      "Post-Transformation\n",
      "0    40640000.00\n",
      "1    43647360.00\n",
      "2     5961400.32\n",
      "3     4064000.00\n",
      "4    30642560.00\n",
      "Name: GrossAmountDisbursed, dtype: float64 \n",
      "\n"
     ]
    }
   ],
   "source": [
    "# Objects --> Numeric \n",
    "\n",
    "num_col = [\"ChargedOffAmount\", \"GuaranteedApprovedLoan\",\"GrossAmountBalance\", \"LoanApprovedGross\", \n",
    "           \"GrossAmountDisbursed\"]\n",
    "\n",
    "for col in num_col:\n",
    "    print('Pre-Transformation')\n",
    "    print(combine_df[col].head(),'\\n')\n",
    "    \n",
    "    combine_df[col].replace('(Rs.)','',regex=True, inplace = True) # Removing letters from  numeric cols\n",
    "    combine_df[col] = pd.to_numeric(combine_df[col])\n",
    "    \n",
    "    print('Post-Transformation')\n",
    "    print(combine_df[col].head(),'\\n')\n",
    "#     break\n",
    "    "
   ]
  },
  {
   "cell_type": "markdown",
   "id": "920a371f",
   "metadata": {},
   "source": [
    "**Notes:**   \n",
    "    - Cols to remove:   \n",
    "       - Time Series-ish Data:    \n",
    "          - DateOfDisbursement appears to be a date time. I am not going to need this column for my analysis.    \n",
    "          - YearOfCommitment  \n",
    "          - CommitmentDate   \n",
    "       -  BorrowerCity --> redundant      \n",
    "       - Too many unique values. Currently, no way to reduce the factors into meaningful statistcal values:\n",
    "          - BorrowerName \n",
    "          - NameOfBank \n",
    "          - StateOfBank  \n",
    "          - CodeFranchise \n",
    "   - Turn into Numeric data type      \n",
    "      - ChargedOffAmount    \n",
    "      - GuaranteedApprovedLoan\n",
    "      - GrossAmountBalance\n",
    "      - LoanApprovedGross\n",
    "      - GrossAmountDisbursed\n",
    "   - Shrink number of levels in col:          \n",
    "     - BorrowerState \n",
    "        - India\n",
    "        - Northern_Region\n",
    "           - Chandigarh\n",
    "           - Delhi\n",
    "           - Haryana\n",
    "           - Himachal Pradesh\n",
    "           - Jammu and Kashmir\n",
    "           - Punjab\n",
    "           - Rajasthan\n",
    "           - Ajmer\n",
    "        - NORTH_EASTERN_REGION\n",
    "           - Arunachal Pradesh\n",
    "           - Assam\n",
    "           - Manipur\n",
    "           - Meghalaya\n",
    "           - Mizoram\n",
    "           - Nagaland\n",
    "           - Tripura\n",
    "           - Uttarakhand\n",
    "           - Farrukhabad\n",
    "        - EASTERN_REGION\n",
    "           - Andaman and Nicobar Islands\n",
    "           - Bihar\n",
    "           - Jharkhand\n",
    "           - Orissa\n",
    "           - Sikkim\n",
    "           - West Bengal\n",
    "           - Odisha\n",
    "        - CENTRAL_REGION\n",
    "           - Chhattisgarh\n",
    "           - Central India\n",
    "           - Uttar Pradesh\n",
    "           - Rampur\n",
    "           - Agra\n",
    "           - Hardoi\n",
    "           - Uttaranchal\n",
    "           - Bulandshahr\n",
    "           - Madhya Pradesh\n",
    "           - Hardoi\n",
    "           - Bulandshahr\n",
    "        - WESTERN_REGION\n",
    "           - Dadra and Nagar Haveli \n",
    "           - Daman and Diu\n",
    "           - Goa\n",
    "           - Gujarat\n",
    "           - Maharashtra\n",
    "        - SOUTHERN_REGION\n",
    "           - Andhra Pradesh\n",
    "           - Karnataka\n",
    "           - Kerala\n",
    "           - Lakshadweep\n",
    "           - Pondicherry\n",
    "           - Puducherry\n",
    "           - Tamil Nadu\n",
    "           - Trilinga\n",
    "           - Karnatka\n",
    "           - Telangana\n",
    "   - LowDocumentationLoan - What is going on with the additional levels (0,S,C,A,R)      "
   ]
  },
  {
   "cell_type": "code",
   "execution_count": 53,
   "id": "fb6d3ef6",
   "metadata": {},
   "outputs": [],
   "source": [
    "city_dict = {\n",
    "'NORTHERN_REGION': [\"Chandigarh\", \"Delhi\", \"Haryana\", \"Himachal Pradesh\", \n",
    "                   \"Jammu and Kashmir\", \"Punjab\", \"Rajasthan\" ,' Ajmer'],\n",
    "\n",
    "'NORTH_EASTERN_REGION': ['Arunachal Pradesh', 'Assam', 'Manipur', 'Meghalaya',\n",
    "'Mizoram', 'Nagaland', 'Tripura', 'Uttarakhand', ' Farrukhabad'],\n",
    "\n",
    "'EASTERN_REGION': [\"Andaman and Nicobar Islands\", \"Bihar\", 'Jharkhand', 'Orissa',\n",
    "'Sikkim', 'West Bengal', 'Odisha'],\n",
    "\n",
    "'CENTRAL_REGION': ['Chhattisgarh', 'Central India', 'Uttar Pradesh', ' Rampur',\n",
    "' Agra', ' Hardoi', 'Uttaranchal', ' Bulandshahr','Madhya Pradesh','Hardoi','Bulandshahr'],\n",
    "\n",
    "'WESTERN_REGION': ['Dadra and Nagar Haveli', 'Daman and Diu', 'Goa', 'Gujarat', 'Maharashtra'],\n",
    "\n",
    "'SOUTHERN_REGION': ['Andhra Pradesh', 'Karnataka', 'Kerala', 'Lakshadweep',\n",
    "'Pondicherry', 'Puducherry', 'Tamil Nadu', 'Trilinga', 'Karnatka','Telangana']\n",
    "}"
   ]
  },
  {
   "cell_type": "code",
   "execution_count": 54,
   "id": "8a805623",
   "metadata": {
    "scrolled": true
   },
   "outputs": [],
   "source": [
    "# Adjusting the levels of the 'BorrowerState' perdictor. There should be eight levels. \n",
    "for region, cities in city_dict.items():\n",
    "#     print(region)\n",
    "    for city in cities:\n",
    "#         print(region,city,'\\n')\n",
    "        combine_df.loc[combine_df['BorrowerState']== city,'BorrowerState'] = region\n",
    "\n",
    "#     break\n",
    "\n",
    "combine_df.loc[combine_df['BorrowerState'] == ' India','BorrowerState'] = 'INDIA'"
   ]
  },
  {
   "cell_type": "code",
   "execution_count": 55,
   "id": "b4aaf470",
   "metadata": {},
   "outputs": [
    {
     "data": {
      "text/plain": [
       "array([0, 1, nan], dtype=object)"
      ]
     },
     "execution_count": 55,
     "metadata": {},
     "output_type": "execute_result"
    }
   ],
   "source": [
    "# The system would not recognize 0.0. It kept putting 0. [Still a float. I need an integer]\n",
    "\n",
    "combine_df.loc[combine_df['Default'] == 0.0,'Default'] = '0'\n",
    "combine_df.loc[combine_df['Default'] == 1.0,'Default'] = '1'\n",
    "\n",
    "\n",
    "combine_df.loc[combine_df['Default'] == '0','Default'] = 0\n",
    "combine_df.loc[combine_df['Default'] == '1','Default'] = 1\n",
    "\n",
    "combine_df['Default'].unique()"
   ]
  },
  {
   "cell_type": "markdown",
   "id": "6104ad4d",
   "metadata": {},
   "source": [
    "### Dropping Columns"
   ]
  },
  {
   "cell_type": "code",
   "execution_count": 56,
   "id": "e65cbc4b",
   "metadata": {},
   "outputs": [
    {
     "name": "stdout",
     "output_type": "stream",
     "text": [
      "['WESTERN_REGION' 'NORTHERN_REGION' 'SOUTHERN_REGION' 'EASTERN_REGION'\n",
      " 'CENTRAL_REGION' 'NORTH_EASTERN_REGION' 'INDIA' nan]\n"
     ]
    },
    {
     "data": {
      "text/html": [
       "<div>\n",
       "<style scoped>\n",
       "    .dataframe tbody tr th:only-of-type {\n",
       "        vertical-align: middle;\n",
       "    }\n",
       "\n",
       "    .dataframe tbody tr th {\n",
       "        vertical-align: top;\n",
       "    }\n",
       "\n",
       "    .dataframe thead th {\n",
       "        text-align: right;\n",
       "    }\n",
       "</style>\n",
       "<table border=\"1\" class=\"dataframe\">\n",
       "  <thead>\n",
       "    <tr style=\"text-align: right;\">\n",
       "      <th></th>\n",
       "      <th>Id</th>\n",
       "      <th>Business</th>\n",
       "      <th>JobsReatained</th>\n",
       "      <th>JobsCreated</th>\n",
       "      <th>GuaranteedApprovedLoan</th>\n",
       "      <th>LowDocumentationLoan</th>\n",
       "      <th>Demography</th>\n",
       "      <th>ChargedOffAmount</th>\n",
       "      <th>BorrowerState</th>\n",
       "      <th>GrossAmountBalance</th>\n",
       "      <th>CountEmployees</th>\n",
       "      <th>ClassificationCode</th>\n",
       "      <th>LoanApprovedGross</th>\n",
       "      <th>GrossAmountDisbursed</th>\n",
       "      <th>LoanTerm</th>\n",
       "      <th>PrimaryLoanDigit</th>\n",
       "      <th>RevolvingCreditLine</th>\n",
       "      <th>Default</th>\n",
       "    </tr>\n",
       "  </thead>\n",
       "  <tbody>\n",
       "    <tr>\n",
       "      <th>0</th>\n",
       "      <td>0</td>\n",
       "      <td>Existing</td>\n",
       "      <td>0</td>\n",
       "      <td>0</td>\n",
       "      <td>33121600.0</td>\n",
       "      <td>No</td>\n",
       "      <td>Undefined</td>\n",
       "      <td>0.00</td>\n",
       "      <td>WESTERN_REGION</td>\n",
       "      <td>0.0</td>\n",
       "      <td>38</td>\n",
       "      <td>0</td>\n",
       "      <td>40640000.0</td>\n",
       "      <td>40640000.00</td>\n",
       "      <td>126</td>\n",
       "      <td>4419763001</td>\n",
       "      <td>No</td>\n",
       "      <td>0</td>\n",
       "    </tr>\n",
       "    <tr>\n",
       "      <th>1</th>\n",
       "      <td>1</td>\n",
       "      <td>New</td>\n",
       "      <td>0</td>\n",
       "      <td>6</td>\n",
       "      <td>32735520.0</td>\n",
       "      <td>No</td>\n",
       "      <td>Urban</td>\n",
       "      <td>38283367.68</td>\n",
       "      <td>NORTHERN_REGION</td>\n",
       "      <td>0.0</td>\n",
       "      <td>6</td>\n",
       "      <td>451120</td>\n",
       "      <td>43647360.0</td>\n",
       "      <td>43647360.00</td>\n",
       "      <td>123</td>\n",
       "      <td>1709796003</td>\n",
       "      <td>0</td>\n",
       "      <td>1</td>\n",
       "    </tr>\n",
       "    <tr>\n",
       "      <th>2</th>\n",
       "      <td>2</td>\n",
       "      <td>Existing</td>\n",
       "      <td>4</td>\n",
       "      <td>0</td>\n",
       "      <td>1422400.0</td>\n",
       "      <td>No</td>\n",
       "      <td>Urban</td>\n",
       "      <td>0.00</td>\n",
       "      <td>SOUTHERN_REGION</td>\n",
       "      <td>0.0</td>\n",
       "      <td>4</td>\n",
       "      <td>541618</td>\n",
       "      <td>2844800.0</td>\n",
       "      <td>5961400.32</td>\n",
       "      <td>90</td>\n",
       "      <td>7464754008</td>\n",
       "      <td>Yes</td>\n",
       "      <td>0</td>\n",
       "    </tr>\n",
       "    <tr>\n",
       "      <th>3</th>\n",
       "      <td>3</td>\n",
       "      <td>New</td>\n",
       "      <td>9</td>\n",
       "      <td>1</td>\n",
       "      <td>2032000.0</td>\n",
       "      <td>No</td>\n",
       "      <td>Urban</td>\n",
       "      <td>0.00</td>\n",
       "      <td>WESTERN_REGION</td>\n",
       "      <td>0.0</td>\n",
       "      <td>7</td>\n",
       "      <td>811112</td>\n",
       "      <td>4064000.0</td>\n",
       "      <td>4064000.00</td>\n",
       "      <td>126</td>\n",
       "      <td>1588745006</td>\n",
       "      <td>Yes</td>\n",
       "      <td>0</td>\n",
       "    </tr>\n",
       "    <tr>\n",
       "      <th>4</th>\n",
       "      <td>4</td>\n",
       "      <td>Existing</td>\n",
       "      <td>4</td>\n",
       "      <td>0</td>\n",
       "      <td>22981920.0</td>\n",
       "      <td>No</td>\n",
       "      <td>Urban</td>\n",
       "      <td>22862519.68</td>\n",
       "      <td>SOUTHERN_REGION</td>\n",
       "      <td>0.0</td>\n",
       "      <td>4</td>\n",
       "      <td>722211</td>\n",
       "      <td>30642560.0</td>\n",
       "      <td>30642560.00</td>\n",
       "      <td>104</td>\n",
       "      <td>8037734002</td>\n",
       "      <td>0</td>\n",
       "      <td>1</td>\n",
       "    </tr>\n",
       "  </tbody>\n",
       "</table>\n",
       "</div>"
      ],
      "text/plain": [
       "   Id  Business  JobsReatained  JobsCreated  GuaranteedApprovedLoan  \\\n",
       "0   0  Existing              0            0              33121600.0   \n",
       "1   1       New              0            6              32735520.0   \n",
       "2   2  Existing              4            0               1422400.0   \n",
       "3   3       New              9            1               2032000.0   \n",
       "4   4  Existing              4            0              22981920.0   \n",
       "\n",
       "  LowDocumentationLoan Demography  ChargedOffAmount    BorrowerState  \\\n",
       "0                   No  Undefined              0.00   WESTERN_REGION   \n",
       "1                   No      Urban       38283367.68  NORTHERN_REGION   \n",
       "2                   No      Urban              0.00  SOUTHERN_REGION   \n",
       "3                   No      Urban              0.00   WESTERN_REGION   \n",
       "4                   No      Urban       22862519.68  SOUTHERN_REGION   \n",
       "\n",
       "   GrossAmountBalance  CountEmployees  ClassificationCode  LoanApprovedGross  \\\n",
       "0                 0.0              38                   0         40640000.0   \n",
       "1                 0.0               6              451120         43647360.0   \n",
       "2                 0.0               4              541618          2844800.0   \n",
       "3                 0.0               7              811112          4064000.0   \n",
       "4                 0.0               4              722211         30642560.0   \n",
       "\n",
       "   GrossAmountDisbursed  LoanTerm  PrimaryLoanDigit RevolvingCreditLine  \\\n",
       "0           40640000.00       126        4419763001                  No   \n",
       "1           43647360.00       123        1709796003                   0   \n",
       "2            5961400.32        90        7464754008                 Yes   \n",
       "3            4064000.00       126        1588745006                 Yes   \n",
       "4           30642560.00       104        8037734002                   0   \n",
       "\n",
       "  Default  \n",
       "0       0  \n",
       "1       1  \n",
       "2       0  \n",
       "3       0  \n",
       "4       1  "
      ]
     },
     "execution_count": 56,
     "metadata": {},
     "output_type": "execute_result"
    }
   ],
   "source": [
    "# Dropping some columns\n",
    "try:\n",
    "    combine_df = combine_df.drop(['BorrowerCity','BorrowerName','DateOfDisbursement','StateOfBank',\n",
    "                              'YearOfCommitment','CommitmentDate','NameOfBank','CodeFranchise'], axis=1)\n",
    "except:\n",
    "    pass\n",
    "\n",
    "print(combine_df['BorrowerState'].unique()) # Verifying all of the cities were accounted for.\n",
    "combine_df.head()"
   ]
  },
  {
   "cell_type": "code",
   "execution_count": 57,
   "id": "843fb9c5",
   "metadata": {},
   "outputs": [
    {
     "name": "stdout",
     "output_type": "stream",
     "text": [
      "<class 'pandas.core.frame.DataFrame'>\n",
      "Int64Index: 150000 entries, 0 to 44999\n",
      "Data columns (total 18 columns):\n",
      " #   Column                  Non-Null Count   Dtype  \n",
      "---  ------                  --------------   -----  \n",
      " 0   Id                      150000 non-null  int64  \n",
      " 1   Business                149979 non-null  object \n",
      " 2   JobsReatained           150000 non-null  int64  \n",
      " 3   JobsCreated             150000 non-null  int64  \n",
      " 4   GuaranteedApprovedLoan  150000 non-null  float64\n",
      " 5   LowDocumentationLoan    149500 non-null  object \n",
      " 6   Demography              150000 non-null  object \n",
      " 7   ChargedOffAmount        150000 non-null  float64\n",
      " 8   BorrowerState           149951 non-null  object \n",
      " 9   GrossAmountBalance      150000 non-null  float64\n",
      " 10  CountEmployees          150000 non-null  int64  \n",
      " 11  ClassificationCode      150000 non-null  int64  \n",
      " 12  LoanApprovedGross       150000 non-null  float64\n",
      " 13  GrossAmountDisbursed    150000 non-null  float64\n",
      " 14  LoanTerm                150000 non-null  int64  \n",
      " 15  PrimaryLoanDigit        150000 non-null  int64  \n",
      " 16  RevolvingCreditLine     135684 non-null  object \n",
      " 17  Default                 105000 non-null  object \n",
      "dtypes: float64(5), int64(7), object(6)\n",
      "memory usage: 21.7+ MB\n"
     ]
    }
   ],
   "source": [
    "combine_df.info()"
   ]
  },
  {
   "cell_type": "markdown",
   "id": "4129614e",
   "metadata": {},
   "source": [
    "### Treat Null Values "
   ]
  },
  {
   "cell_type": "code",
   "execution_count": 58,
   "id": "dfd4e64d",
   "metadata": {
    "scrolled": true
   },
   "outputs": [
    {
     "name": "stdout",
     "output_type": "stream",
     "text": [
      "Column Name: Business\n",
      "Existing    71.435\n",
      "New         28.445\n",
      "0            0.106\n",
      "Name: Business, dtype: float64\n",
      "Columns type: object\n",
      "NA percentage: 0.01  \n",
      "\n",
      "Column Name: LowDocumentationLoan\n",
      "No     87.741\n",
      "Yes    11.528\n",
      "0       0.158\n",
      "S       0.092\n",
      "C       0.080\n",
      "A       0.062\n",
      "R       0.006\n",
      "Name: LowDocumentationLoan, dtype: float64\n",
      "Columns type: object\n",
      "NA percentage: 0.33  \n",
      "\n",
      "Column Name: BorrowerState\n",
      "SOUTHERN_REGION         28.709\n",
      "CENTRAL_REGION          19.577\n",
      "WESTERN_REGION          17.965\n",
      "EASTERN_REGION          15.141\n",
      "NORTHERN_REGION         13.827\n",
      "NORTH_EASTERN_REGION     4.704\n",
      "INDIA                    0.045\n",
      "Name: BorrowerState, dtype: float64\n",
      "Columns type: object\n",
      "NA percentage: 0.03  \n",
      "\n",
      "Column Name: RevolvingCreditLine\n",
      "No     45.742\n",
      "Yes    23.551\n",
      "0      19.741\n",
      "T       1.413\n",
      "R       0.003\n",
      "`       0.001\n",
      "1       0.001\n",
      "2       0.001\n",
      "4       0.001\n",
      ".       0.001\n",
      "C       0.001\n",
      "Name: RevolvingCreditLine, dtype: float64\n",
      "Columns type: object\n",
      "NA percentage: 9.54  \n",
      "\n",
      "Column Name: Default\n",
      "0    50.597\n",
      "1    19.403\n",
      "Name: Default, dtype: float64\n",
      "Columns type: object\n",
      "NA percentage: 30.00  \n",
      "\n"
     ]
    }
   ],
   "source": [
    "## Categorical Values with NAs and other...\n",
    "\n",
    "# Pulling the numerical columns that need filling\n",
    "\n",
    "obj_cols_NAs = combine_df.loc[:,combine_df.dtypes == object].isna().sum()\n",
    "obj_cols_NAs = obj_cols_NAs[obj_cols_NAs > 0].index # Grabbing the numeric colums that have NAs \n",
    "obj_cols_NAs = [na_col for na_col in obj_cols_NAs]\n",
    "\n",
    "\n",
    "for col in obj_cols_NAs:\n",
    "    print('Column Name: %s' % col)\n",
    "    print(round((combine_df[col].value_counts()/combine_df.shape[0])*100,3))\n",
    "    print('Columns type: %s' %combine_df[col].dtypes)\n",
    "    print('NA percentage: %.2f  \\n' % sum(combine_df[col].isna()/combine_df.shape[0]*100))"
   ]
  },
  {
   "cell_type": "code",
   "execution_count": 59,
   "id": "17514843",
   "metadata": {},
   "outputs": [],
   "source": [
    "na_cols = ['Business', 'LowDocumentationLoan', 'BorrowerState', 'RevolvingCreditLine']\n",
    "for col in na_cols:\n",
    "#     print(col)\n",
    "    combine_df.loc[combine_df[col].isna(),col] = combine_df[col].mode()[0]"
   ]
  },
  {
   "cell_type": "code",
   "execution_count": 60,
   "id": "073def49",
   "metadata": {},
   "outputs": [],
   "source": [
    "\n",
    "# combine_df.loc[(combine_df['Business'] != 'Existing') & (combine_df['Business'] != 'New'),\n",
    "#                'Business'] = combine_df['Business'].mode()[0]\n",
    "\n",
    "# combine_df.loc[(combine_df['LowDocumentationLoan'] != 'No') & (combine_df['LowDocumentationLoan'] != 'Yes'),\n",
    "#                'LowDocumentationLoan'] = combine_df['LowDocumentationLoan'].mode()[0]\n",
    "\n",
    "# combine_df.loc[combine_df['BorrowerState'].isna(),'BorrowerState'] = combine_df['BorrowerState'].mode()[0]\n",
    "\n",
    "# combine_df.loc[(combine_df['RevolvingCreditLine'] != 'No') & (combine_df['RevolvingCreditLine'] != 'Yes'),\n",
    "#                'RevolvingCreditLine'] = combine_df['RevolvingCreditLine'].mode()[0]"
   ]
  },
  {
   "cell_type": "code",
   "execution_count": 61,
   "id": "0d66accf",
   "metadata": {},
   "outputs": [
    {
     "data": {
      "text/plain": [
       "array(['No', '0', 'Yes', 'T', 'R', '`', '2', '4', '.', '1', 'C'],\n",
       "      dtype=object)"
      ]
     },
     "execution_count": 61,
     "metadata": {},
     "output_type": "execute_result"
    }
   ],
   "source": [
    "combine_df['Business'].unique()\n",
    "combine_df['LowDocumentationLoan'].unique()\n",
    "combine_df['BorrowerState'].unique()\n",
    "combine_df['RevolvingCreditLine'].unique()\n",
    "\n"
   ]
  },
  {
   "cell_type": "code",
   "execution_count": 62,
   "id": "f0dcce81",
   "metadata": {
    "scrolled": true
   },
   "outputs": [
    {
     "data": {
      "text/plain": [
       "Id                            0\n",
       "Business                      0\n",
       "JobsReatained                 0\n",
       "JobsCreated                   0\n",
       "GuaranteedApprovedLoan        0\n",
       "LowDocumentationLoan          0\n",
       "Demography                    0\n",
       "ChargedOffAmount              0\n",
       "BorrowerState                 0\n",
       "GrossAmountBalance            0\n",
       "CountEmployees                0\n",
       "ClassificationCode            0\n",
       "LoanApprovedGross             0\n",
       "GrossAmountDisbursed          0\n",
       "LoanTerm                      0\n",
       "PrimaryLoanDigit              0\n",
       "RevolvingCreditLine           0\n",
       "Default                   45000\n",
       "dtype: int64"
      ]
     },
     "execution_count": 62,
     "metadata": {},
     "output_type": "execute_result"
    }
   ],
   "source": [
    "combine_df.isna().sum()"
   ]
  },
  {
   "cell_type": "markdown",
   "id": "676dcce7",
   "metadata": {},
   "source": [
    "**Note:**\n",
    "    - I don't need to add any values for default. Due to the nature of this hackathon, the original test data set did not have a 'Default' column, and since I joined the train and test data, I amassed 4500 NAs for default. Which is the length of the test dataset."
   ]
  },
  {
   "cell_type": "markdown",
   "id": "5b642af3",
   "metadata": {},
   "source": [
    "### Changing Data Types"
   ]
  },
  {
   "cell_type": "code",
   "execution_count": 63,
   "id": "08cc97c5",
   "metadata": {},
   "outputs": [
    {
     "data": {
      "text/html": [
       "<div>\n",
       "<style scoped>\n",
       "    .dataframe tbody tr th:only-of-type {\n",
       "        vertical-align: middle;\n",
       "    }\n",
       "\n",
       "    .dataframe tbody tr th {\n",
       "        vertical-align: top;\n",
       "    }\n",
       "\n",
       "    .dataframe thead th {\n",
       "        text-align: right;\n",
       "    }\n",
       "</style>\n",
       "<table border=\"1\" class=\"dataframe\">\n",
       "  <thead>\n",
       "    <tr style=\"text-align: right;\">\n",
       "      <th></th>\n",
       "      <th>Business</th>\n",
       "      <th>LowDocumentationLoan</th>\n",
       "      <th>Demography</th>\n",
       "      <th>BorrowerState</th>\n",
       "      <th>RevolvingCreditLine</th>\n",
       "      <th>Default</th>\n",
       "    </tr>\n",
       "  </thead>\n",
       "  <tbody>\n",
       "    <tr>\n",
       "      <th>0</th>\n",
       "      <td>Existing</td>\n",
       "      <td>No</td>\n",
       "      <td>Undefined</td>\n",
       "      <td>WESTERN_REGION</td>\n",
       "      <td>No</td>\n",
       "      <td>0</td>\n",
       "    </tr>\n",
       "    <tr>\n",
       "      <th>1</th>\n",
       "      <td>New</td>\n",
       "      <td>No</td>\n",
       "      <td>Urban</td>\n",
       "      <td>NORTHERN_REGION</td>\n",
       "      <td>0</td>\n",
       "      <td>1</td>\n",
       "    </tr>\n",
       "    <tr>\n",
       "      <th>2</th>\n",
       "      <td>Existing</td>\n",
       "      <td>No</td>\n",
       "      <td>Urban</td>\n",
       "      <td>SOUTHERN_REGION</td>\n",
       "      <td>Yes</td>\n",
       "      <td>0</td>\n",
       "    </tr>\n",
       "    <tr>\n",
       "      <th>3</th>\n",
       "      <td>New</td>\n",
       "      <td>No</td>\n",
       "      <td>Urban</td>\n",
       "      <td>WESTERN_REGION</td>\n",
       "      <td>Yes</td>\n",
       "      <td>0</td>\n",
       "    </tr>\n",
       "    <tr>\n",
       "      <th>4</th>\n",
       "      <td>Existing</td>\n",
       "      <td>No</td>\n",
       "      <td>Urban</td>\n",
       "      <td>SOUTHERN_REGION</td>\n",
       "      <td>0</td>\n",
       "      <td>1</td>\n",
       "    </tr>\n",
       "  </tbody>\n",
       "</table>\n",
       "</div>"
      ],
      "text/plain": [
       "   Business LowDocumentationLoan Demography    BorrowerState  \\\n",
       "0  Existing                   No  Undefined   WESTERN_REGION   \n",
       "1       New                   No      Urban  NORTHERN_REGION   \n",
       "2  Existing                   No      Urban  SOUTHERN_REGION   \n",
       "3       New                   No      Urban   WESTERN_REGION   \n",
       "4  Existing                   No      Urban  SOUTHERN_REGION   \n",
       "\n",
       "  RevolvingCreditLine Default  \n",
       "0                  No       0  \n",
       "1                   0       1  \n",
       "2                 Yes       0  \n",
       "3                 Yes       0  \n",
       "4                   0       1  "
      ]
     },
     "execution_count": 63,
     "metadata": {},
     "output_type": "execute_result"
    }
   ],
   "source": [
    "object_columns = combine_df.loc[:,(combine_df.dtypes == object)].columns\n",
    "combine_df[object_columns].head()"
   ]
  },
  {
   "cell_type": "code",
   "execution_count": 64,
   "id": "fa43b8c6",
   "metadata": {
    "scrolled": true
   },
   "outputs": [
    {
     "name": "stdout",
     "output_type": "stream",
     "text": [
      "Column Name: Business\n",
      "Existing    71.449\n",
      "New         28.445\n",
      "0            0.106\n",
      "Name: Business, dtype: float64\n",
      "Columns type: object\n",
      "NA percentage: 0.00  \n",
      "\n",
      "Column Name: LowDocumentationLoan\n",
      "No     88.074\n",
      "Yes    11.528\n",
      "0       0.158\n",
      "S       0.092\n",
      "C       0.080\n",
      "A       0.062\n",
      "R       0.006\n",
      "Name: LowDocumentationLoan, dtype: float64\n",
      "Columns type: object\n",
      "NA percentage: 0.00  \n",
      "\n",
      "Column Name: Demography\n",
      "Urban        54.789\n",
      "Undefined    33.413\n",
      "Rural        11.798\n",
      "Name: Demography, dtype: float64\n",
      "Columns type: object\n",
      "NA percentage: 0.00  \n",
      "\n",
      "Column Name: BorrowerState\n",
      "SOUTHERN_REGION         28.741\n",
      "CENTRAL_REGION          19.577\n",
      "WESTERN_REGION          17.965\n",
      "EASTERN_REGION          15.141\n",
      "NORTHERN_REGION         13.827\n",
      "NORTH_EASTERN_REGION     4.704\n",
      "INDIA                    0.045\n",
      "Name: BorrowerState, dtype: float64\n",
      "Columns type: object\n",
      "NA percentage: 0.00  \n",
      "\n",
      "Column Name: RevolvingCreditLine\n",
      "No     55.286\n",
      "Yes    23.551\n",
      "0      19.741\n",
      "T       1.413\n",
      "R       0.003\n",
      "`       0.001\n",
      "1       0.001\n",
      "2       0.001\n",
      "4       0.001\n",
      ".       0.001\n",
      "C       0.001\n",
      "Name: RevolvingCreditLine, dtype: float64\n",
      "Columns type: object\n",
      "NA percentage: 0.00  \n",
      "\n",
      "Column Name: Default\n",
      "0    50.597\n",
      "1    19.403\n",
      "Name: Default, dtype: float64\n",
      "Columns type: object\n",
      "NA percentage: 30.00  \n",
      "\n"
     ]
    }
   ],
   "source": [
    "'''Changing the object columns into categories\n",
    "Checking the percentage breakdown of each factor per column'''\n",
    "for col in object_columns:\n",
    "    print('Column Name: %s' % col)\n",
    "    print(round((combine_df[col].value_counts()/combine_df.shape[0])*100,3))\n",
    "#     print(train[col].astype(\"category\").value_counts(), '\\n')\n",
    "    print('Columns type: %s' %combine_df[col].dtypes)\n",
    "    print('NA percentage: %.2f  \\n' % sum(combine_df[col].isna()/combine_df.shape[0]*100))\n",
    "    combine_df[col] = combine_df[col].astype(\"category\")"
   ]
  },
  {
   "cell_type": "code",
   "execution_count": 65,
   "id": "57093f10",
   "metadata": {},
   "outputs": [],
   "source": [
    "# Changing the response\n",
    "combine_df['Default'] = combine_df['Default'].astype('category')"
   ]
  },
  {
   "cell_type": "code",
   "execution_count": 66,
   "id": "2db34140",
   "metadata": {},
   "outputs": [
    {
     "name": "stdout",
     "output_type": "stream",
     "text": [
      "<class 'pandas.core.frame.DataFrame'>\n",
      "Int64Index: 150000 entries, 0 to 44999\n",
      "Data columns (total 18 columns):\n",
      " #   Column                  Non-Null Count   Dtype   \n",
      "---  ------                  --------------   -----   \n",
      " 0   Id                      150000 non-null  int64   \n",
      " 1   Business                150000 non-null  category\n",
      " 2   JobsReatained           150000 non-null  int64   \n",
      " 3   JobsCreated             150000 non-null  int64   \n",
      " 4   GuaranteedApprovedLoan  150000 non-null  float64 \n",
      " 5   LowDocumentationLoan    150000 non-null  category\n",
      " 6   Demography              150000 non-null  category\n",
      " 7   ChargedOffAmount        150000 non-null  float64 \n",
      " 8   BorrowerState           150000 non-null  category\n",
      " 9   GrossAmountBalance      150000 non-null  float64 \n",
      " 10  CountEmployees          150000 non-null  int64   \n",
      " 11  ClassificationCode      150000 non-null  int64   \n",
      " 12  LoanApprovedGross       150000 non-null  float64 \n",
      " 13  GrossAmountDisbursed    150000 non-null  float64 \n",
      " 14  LoanTerm                150000 non-null  int64   \n",
      " 15  PrimaryLoanDigit        150000 non-null  int64   \n",
      " 16  RevolvingCreditLine     150000 non-null  category\n",
      " 17  Default                 105000 non-null  category\n",
      "dtypes: category(6), float64(5), int64(7)\n",
      "memory usage: 15.7 MB\n"
     ]
    }
   ],
   "source": [
    "combine_df.info() # Everything is in its proper type"
   ]
  },
  {
   "cell_type": "markdown",
   "id": "2d654b87",
   "metadata": {},
   "source": [
    "### Scale Numeric Data"
   ]
  },
  {
   "cell_type": "code",
   "execution_count": 67,
   "id": "37af6294",
   "metadata": {},
   "outputs": [
    {
     "name": "stdout",
     "output_type": "stream",
     "text": [
      "Numeric Scaled Data (150000, 11)\n"
     ]
    },
    {
     "data": {
      "text/html": [
       "<div>\n",
       "<style scoped>\n",
       "    .dataframe tbody tr th:only-of-type {\n",
       "        vertical-align: middle;\n",
       "    }\n",
       "\n",
       "    .dataframe tbody tr th {\n",
       "        vertical-align: top;\n",
       "    }\n",
       "\n",
       "    .dataframe thead th {\n",
       "        text-align: right;\n",
       "    }\n",
       "</style>\n",
       "<table border=\"1\" class=\"dataframe\">\n",
       "  <thead>\n",
       "    <tr style=\"text-align: right;\">\n",
       "      <th></th>\n",
       "      <th>JobsReatained</th>\n",
       "      <th>JobsCreated</th>\n",
       "      <th>GuaranteedApprovedLoan</th>\n",
       "      <th>ChargedOffAmount</th>\n",
       "      <th>GrossAmountBalance</th>\n",
       "      <th>CountEmployees</th>\n",
       "      <th>ClassificationCode</th>\n",
       "      <th>LoanApprovedGross</th>\n",
       "      <th>GrossAmountDisbursed</th>\n",
       "      <th>LoanTerm</th>\n",
       "      <th>PrimaryLoanDigit</th>\n",
       "    </tr>\n",
       "  </thead>\n",
       "  <tbody>\n",
       "    <tr>\n",
       "      <th>0</th>\n",
       "      <td>-0.25</td>\n",
       "      <td>0.0</td>\n",
       "      <td>2.500000</td>\n",
       "      <td>0.000000</td>\n",
       "      <td>0.0</td>\n",
       "      <td>4.857143</td>\n",
       "      <td>-1.373083</td>\n",
       "      <td>2.366197</td>\n",
       "      <td>2.194861</td>\n",
       "      <td>0.000000</td>\n",
       "      <td>0.071863</td>\n",
       "    </tr>\n",
       "    <tr>\n",
       "      <th>1</th>\n",
       "      <td>-0.25</td>\n",
       "      <td>6.0</td>\n",
       "      <td>2.466596</td>\n",
       "      <td>61.036835</td>\n",
       "      <td>0.0</td>\n",
       "      <td>0.285714</td>\n",
       "      <td>0.012315</td>\n",
       "      <td>2.574648</td>\n",
       "      <td>2.395948</td>\n",
       "      <td>-0.033333</td>\n",
       "      <td>-0.563248</td>\n",
       "    </tr>\n",
       "    <tr>\n",
       "      <th>2</th>\n",
       "      <td>0.75</td>\n",
       "      <td>0.0</td>\n",
       "      <td>-0.242616</td>\n",
       "      <td>0.000000</td>\n",
       "      <td>0.0</td>\n",
       "      <td>0.000000</td>\n",
       "      <td>0.290236</td>\n",
       "      <td>-0.253521</td>\n",
       "      <td>-0.123921</td>\n",
       "      <td>-0.400000</td>\n",
       "      <td>0.785490</td>\n",
       "    </tr>\n",
       "    <tr>\n",
       "      <th>3</th>\n",
       "      <td>2.00</td>\n",
       "      <td>1.0</td>\n",
       "      <td>-0.189873</td>\n",
       "      <td>0.000000</td>\n",
       "      <td>0.0</td>\n",
       "      <td>0.428571</td>\n",
       "      <td>1.117856</td>\n",
       "      <td>-0.169014</td>\n",
       "      <td>-0.250791</td>\n",
       "      <td>0.000000</td>\n",
       "      <td>-0.591617</td>\n",
       "    </tr>\n",
       "    <tr>\n",
       "      <th>4</th>\n",
       "      <td>0.75</td>\n",
       "      <td>0.0</td>\n",
       "      <td>1.622714</td>\n",
       "      <td>36.450708</td>\n",
       "      <td>0.0</td>\n",
       "      <td>0.000000</td>\n",
       "      <td>0.844840</td>\n",
       "      <td>1.673239</td>\n",
       "      <td>1.526383</td>\n",
       "      <td>-0.244444</td>\n",
       "      <td>0.919774</td>\n",
       "    </tr>\n",
       "    <tr>\n",
       "      <th>5</th>\n",
       "      <td>0.50</td>\n",
       "      <td>0.0</td>\n",
       "      <td>-0.348101</td>\n",
       "      <td>0.000000</td>\n",
       "      <td>0.0</td>\n",
       "      <td>-0.142857</td>\n",
       "      <td>0.021804</td>\n",
       "      <td>-0.422535</td>\n",
       "      <td>-0.495356</td>\n",
       "      <td>0.000000</td>\n",
       "      <td>0.195917</td>\n",
       "    </tr>\n",
       "  </tbody>\n",
       "</table>\n",
       "</div>"
      ],
      "text/plain": [
       "   JobsReatained  JobsCreated  GuaranteedApprovedLoan  ChargedOffAmount  \\\n",
       "0          -0.25          0.0                2.500000          0.000000   \n",
       "1          -0.25          6.0                2.466596         61.036835   \n",
       "2           0.75          0.0               -0.242616          0.000000   \n",
       "3           2.00          1.0               -0.189873          0.000000   \n",
       "4           0.75          0.0                1.622714         36.450708   \n",
       "5           0.50          0.0               -0.348101          0.000000   \n",
       "\n",
       "   GrossAmountBalance  CountEmployees  ClassificationCode  LoanApprovedGross  \\\n",
       "0                 0.0        4.857143           -1.373083           2.366197   \n",
       "1                 0.0        0.285714            0.012315           2.574648   \n",
       "2                 0.0        0.000000            0.290236          -0.253521   \n",
       "3                 0.0        0.428571            1.117856          -0.169014   \n",
       "4                 0.0        0.000000            0.844840           1.673239   \n",
       "5                 0.0       -0.142857            0.021804          -0.422535   \n",
       "\n",
       "   GrossAmountDisbursed  LoanTerm  PrimaryLoanDigit  \n",
       "0              2.194861  0.000000          0.071863  \n",
       "1              2.395948 -0.033333         -0.563248  \n",
       "2             -0.123921 -0.400000          0.785490  \n",
       "3             -0.250791  0.000000         -0.591617  \n",
       "4              1.526383 -0.244444          0.919774  \n",
       "5             -0.495356  0.000000          0.195917  "
      ]
     },
     "execution_count": 67,
     "metadata": {},
     "output_type": "execute_result"
    }
   ],
   "source": [
    "combine_df_copy = combine_df.copy()\n",
    "\n",
    "scaler = RobustScaler()\n",
    "\n",
    "\n",
    "'''Grabbing everything with the exception of Id columns. \n",
    "I cannot drop this columns because I need it for the hackathon submission.'''\n",
    "num_cols_to_scale = combine_df.loc[:,(combine_df.dtypes == 'int') | (combine_df.dtypes == 'float')].columns[1:] \n",
    "numerical_data = combine_df[num_cols_to_scale]\n",
    "scaled = scaler.fit_transform(numerical_data)\n",
    "\n",
    "# Put into dataframe \n",
    "data_scaled = pd.DataFrame(scaled, columns = num_cols_to_scale)\n",
    "print('Numeric Scaled Data',data_scaled.shape)\n",
    "data_scaled.head(6)\n",
    "\n"
   ]
  },
  {
   "cell_type": "code",
   "execution_count": 68,
   "id": "cb41f3e8",
   "metadata": {},
   "outputs": [
    {
     "name": "stdout",
     "output_type": "stream",
     "text": [
      "Categorical Scaled Data (150000, 6)\n"
     ]
    },
    {
     "data": {
      "text/html": [
       "<div>\n",
       "<style scoped>\n",
       "    .dataframe tbody tr th:only-of-type {\n",
       "        vertical-align: middle;\n",
       "    }\n",
       "\n",
       "    .dataframe tbody tr th {\n",
       "        vertical-align: top;\n",
       "    }\n",
       "\n",
       "    .dataframe thead th {\n",
       "        text-align: right;\n",
       "    }\n",
       "</style>\n",
       "<table border=\"1\" class=\"dataframe\">\n",
       "  <thead>\n",
       "    <tr style=\"text-align: right;\">\n",
       "      <th></th>\n",
       "      <th>Business</th>\n",
       "      <th>LowDocumentationLoan</th>\n",
       "      <th>Demography</th>\n",
       "      <th>BorrowerState</th>\n",
       "      <th>RevolvingCreditLine</th>\n",
       "      <th>Default</th>\n",
       "    </tr>\n",
       "  </thead>\n",
       "  <tbody>\n",
       "    <tr>\n",
       "      <th>0</th>\n",
       "      <td>Existing</td>\n",
       "      <td>No</td>\n",
       "      <td>Undefined</td>\n",
       "      <td>WESTERN_REGION</td>\n",
       "      <td>No</td>\n",
       "      <td>0</td>\n",
       "    </tr>\n",
       "    <tr>\n",
       "      <th>1</th>\n",
       "      <td>New</td>\n",
       "      <td>No</td>\n",
       "      <td>Urban</td>\n",
       "      <td>NORTHERN_REGION</td>\n",
       "      <td>0</td>\n",
       "      <td>1</td>\n",
       "    </tr>\n",
       "    <tr>\n",
       "      <th>2</th>\n",
       "      <td>Existing</td>\n",
       "      <td>No</td>\n",
       "      <td>Urban</td>\n",
       "      <td>SOUTHERN_REGION</td>\n",
       "      <td>Yes</td>\n",
       "      <td>0</td>\n",
       "    </tr>\n",
       "    <tr>\n",
       "      <th>3</th>\n",
       "      <td>New</td>\n",
       "      <td>No</td>\n",
       "      <td>Urban</td>\n",
       "      <td>WESTERN_REGION</td>\n",
       "      <td>Yes</td>\n",
       "      <td>0</td>\n",
       "    </tr>\n",
       "    <tr>\n",
       "      <th>4</th>\n",
       "      <td>Existing</td>\n",
       "      <td>No</td>\n",
       "      <td>Urban</td>\n",
       "      <td>SOUTHERN_REGION</td>\n",
       "      <td>0</td>\n",
       "      <td>1</td>\n",
       "    </tr>\n",
       "  </tbody>\n",
       "</table>\n",
       "</div>"
      ],
      "text/plain": [
       "   Business LowDocumentationLoan Demography    BorrowerState  \\\n",
       "0  Existing                   No  Undefined   WESTERN_REGION   \n",
       "1       New                   No      Urban  NORTHERN_REGION   \n",
       "2  Existing                   No      Urban  SOUTHERN_REGION   \n",
       "3       New                   No      Urban   WESTERN_REGION   \n",
       "4  Existing                   No      Urban  SOUTHERN_REGION   \n",
       "\n",
       "  RevolvingCreditLine Default  \n",
       "0                  No       0  \n",
       "1                   0       1  \n",
       "2                 Yes       0  \n",
       "3                 Yes       0  \n",
       "4                   0       1  "
      ]
     },
     "execution_count": 68,
     "metadata": {},
     "output_type": "execute_result"
    }
   ],
   "source": [
    "cat_df = combine_df.loc[:,(combine_df.dtypes == 'category')]\n",
    "print('Categorical Scaled Data',cat_df.shape)\n",
    "\n",
    "cat_df.head()\n"
   ]
  },
  {
   "cell_type": "code",
   "execution_count": 69,
   "id": "8b00195f",
   "metadata": {},
   "outputs": [
    {
     "name": "stdout",
     "output_type": "stream",
     "text": [
      "Categorical Scaled Data (150000, 7)\n",
      "Numeric Scaled Data (150000, 12)\n",
      "To include the Id col, there should be only 18 cols.\n"
     ]
    }
   ],
   "source": [
    "# Creating a proxy to merge on\n",
    "cat_df['tmp'] = 1\n",
    "data_scaled['tmp'] = 1\n",
    "\n",
    "print('Categorical Scaled Data',cat_df.shape)\n",
    "\n",
    "print('Numeric Scaled Data',data_scaled.shape)\n",
    "\n",
    "# df = df.drop('tmp', axis=1)\n",
    "# df\n",
    "\n",
    "print('To include the Id col, there should be only 18 cols.')"
   ]
  },
  {
   "cell_type": "code",
   "execution_count": 70,
   "id": "a43f62c4",
   "metadata": {
    "scrolled": true
   },
   "outputs": [
    {
     "data": {
      "text/html": [
       "<div>\n",
       "<style scoped>\n",
       "    .dataframe tbody tr th:only-of-type {\n",
       "        vertical-align: middle;\n",
       "    }\n",
       "\n",
       "    .dataframe tbody tr th {\n",
       "        vertical-align: top;\n",
       "    }\n",
       "\n",
       "    .dataframe thead th {\n",
       "        text-align: right;\n",
       "    }\n",
       "</style>\n",
       "<table border=\"1\" class=\"dataframe\">\n",
       "  <thead>\n",
       "    <tr style=\"text-align: right;\">\n",
       "      <th></th>\n",
       "      <th>JobsReatained</th>\n",
       "      <th>JobsCreated</th>\n",
       "      <th>GuaranteedApprovedLoan</th>\n",
       "      <th>ChargedOffAmount</th>\n",
       "      <th>GrossAmountBalance</th>\n",
       "      <th>CountEmployees</th>\n",
       "      <th>ClassificationCode</th>\n",
       "      <th>LoanApprovedGross</th>\n",
       "      <th>GrossAmountDisbursed</th>\n",
       "      <th>LoanTerm</th>\n",
       "      <th>PrimaryLoanDigit</th>\n",
       "      <th>Business</th>\n",
       "      <th>LowDocumentationLoan</th>\n",
       "      <th>Demography</th>\n",
       "      <th>BorrowerState</th>\n",
       "      <th>RevolvingCreditLine</th>\n",
       "      <th>Default</th>\n",
       "    </tr>\n",
       "  </thead>\n",
       "  <tbody>\n",
       "    <tr>\n",
       "      <th>0</th>\n",
       "      <td>-0.25</td>\n",
       "      <td>0.0</td>\n",
       "      <td>2.500000</td>\n",
       "      <td>0.000000</td>\n",
       "      <td>0.0</td>\n",
       "      <td>4.857143</td>\n",
       "      <td>-1.373083</td>\n",
       "      <td>2.366197</td>\n",
       "      <td>2.194861</td>\n",
       "      <td>0.000000</td>\n",
       "      <td>0.071863</td>\n",
       "      <td>Existing</td>\n",
       "      <td>No</td>\n",
       "      <td>Undefined</td>\n",
       "      <td>WESTERN_REGION</td>\n",
       "      <td>No</td>\n",
       "      <td>0</td>\n",
       "    </tr>\n",
       "    <tr>\n",
       "      <th>1</th>\n",
       "      <td>-0.25</td>\n",
       "      <td>6.0</td>\n",
       "      <td>2.466596</td>\n",
       "      <td>61.036835</td>\n",
       "      <td>0.0</td>\n",
       "      <td>0.285714</td>\n",
       "      <td>0.012315</td>\n",
       "      <td>2.574648</td>\n",
       "      <td>2.395948</td>\n",
       "      <td>-0.033333</td>\n",
       "      <td>-0.563248</td>\n",
       "      <td>New</td>\n",
       "      <td>No</td>\n",
       "      <td>Urban</td>\n",
       "      <td>NORTHERN_REGION</td>\n",
       "      <td>0</td>\n",
       "      <td>1</td>\n",
       "    </tr>\n",
       "    <tr>\n",
       "      <th>2</th>\n",
       "      <td>0.75</td>\n",
       "      <td>0.0</td>\n",
       "      <td>-0.242616</td>\n",
       "      <td>0.000000</td>\n",
       "      <td>0.0</td>\n",
       "      <td>0.000000</td>\n",
       "      <td>0.290236</td>\n",
       "      <td>-0.253521</td>\n",
       "      <td>-0.123921</td>\n",
       "      <td>-0.400000</td>\n",
       "      <td>0.785490</td>\n",
       "      <td>Existing</td>\n",
       "      <td>No</td>\n",
       "      <td>Urban</td>\n",
       "      <td>SOUTHERN_REGION</td>\n",
       "      <td>Yes</td>\n",
       "      <td>0</td>\n",
       "    </tr>\n",
       "    <tr>\n",
       "      <th>3</th>\n",
       "      <td>2.00</td>\n",
       "      <td>1.0</td>\n",
       "      <td>-0.189873</td>\n",
       "      <td>0.000000</td>\n",
       "      <td>0.0</td>\n",
       "      <td>0.428571</td>\n",
       "      <td>1.117856</td>\n",
       "      <td>-0.169014</td>\n",
       "      <td>-0.250791</td>\n",
       "      <td>0.000000</td>\n",
       "      <td>-0.591617</td>\n",
       "      <td>New</td>\n",
       "      <td>No</td>\n",
       "      <td>Urban</td>\n",
       "      <td>WESTERN_REGION</td>\n",
       "      <td>Yes</td>\n",
       "      <td>0</td>\n",
       "    </tr>\n",
       "    <tr>\n",
       "      <th>4</th>\n",
       "      <td>0.75</td>\n",
       "      <td>0.0</td>\n",
       "      <td>1.622714</td>\n",
       "      <td>36.450708</td>\n",
       "      <td>0.0</td>\n",
       "      <td>0.000000</td>\n",
       "      <td>0.844840</td>\n",
       "      <td>1.673239</td>\n",
       "      <td>1.526383</td>\n",
       "      <td>-0.244444</td>\n",
       "      <td>0.919774</td>\n",
       "      <td>Existing</td>\n",
       "      <td>No</td>\n",
       "      <td>Urban</td>\n",
       "      <td>SOUTHERN_REGION</td>\n",
       "      <td>0</td>\n",
       "      <td>1</td>\n",
       "    </tr>\n",
       "  </tbody>\n",
       "</table>\n",
       "</div>"
      ],
      "text/plain": [
       "   JobsReatained  JobsCreated  GuaranteedApprovedLoan  ChargedOffAmount  \\\n",
       "0          -0.25          0.0                2.500000          0.000000   \n",
       "1          -0.25          6.0                2.466596         61.036835   \n",
       "2           0.75          0.0               -0.242616          0.000000   \n",
       "3           2.00          1.0               -0.189873          0.000000   \n",
       "4           0.75          0.0                1.622714         36.450708   \n",
       "\n",
       "   GrossAmountBalance  CountEmployees  ClassificationCode  LoanApprovedGross  \\\n",
       "0                 0.0        4.857143           -1.373083           2.366197   \n",
       "1                 0.0        0.285714            0.012315           2.574648   \n",
       "2                 0.0        0.000000            0.290236          -0.253521   \n",
       "3                 0.0        0.428571            1.117856          -0.169014   \n",
       "4                 0.0        0.000000            0.844840           1.673239   \n",
       "\n",
       "   GrossAmountDisbursed  LoanTerm  PrimaryLoanDigit  Business  \\\n",
       "0              2.194861  0.000000          0.071863  Existing   \n",
       "1              2.395948 -0.033333         -0.563248       New   \n",
       "2             -0.123921 -0.400000          0.785490  Existing   \n",
       "3             -0.250791  0.000000         -0.591617       New   \n",
       "4              1.526383 -0.244444          0.919774  Existing   \n",
       "\n",
       "  LowDocumentationLoan Demography    BorrowerState RevolvingCreditLine Default  \n",
       "0                   No  Undefined   WESTERN_REGION                  No       0  \n",
       "1                   No      Urban  NORTHERN_REGION                   0       1  \n",
       "2                   No      Urban  SOUTHERN_REGION                 Yes       0  \n",
       "3                   No      Urban   WESTERN_REGION                 Yes       0  \n",
       "4                   No      Urban  SOUTHERN_REGION                   0       1  "
      ]
     },
     "execution_count": 70,
     "metadata": {},
     "output_type": "execute_result"
    }
   ],
   "source": [
    "df1 = data_scaled.reset_index(drop=True)\n",
    "df2 = cat_df.reset_index(drop=True)\n",
    "\n",
    "new_combine_df = pd.merge(df1, df2, how='inner', left_index=True, right_index=True)\n",
    "\n",
    "\n",
    "desired_cols = (new_combine_df.columns.drop(['tmp_x', 'tmp_y']))\n",
    "new_combine_df = new_combine_df[desired_cols]\n",
    "\n",
    "new_combine_df.head()"
   ]
  },
  {
   "cell_type": "code",
   "execution_count": 71,
   "id": "26034ffb",
   "metadata": {},
   "outputs": [
    {
     "name": "stdout",
     "output_type": "stream",
     "text": [
      "<class 'pandas.core.frame.DataFrame'>\n",
      "RangeIndex: 150000 entries, 0 to 149999\n",
      "Data columns (total 17 columns):\n",
      " #   Column                  Non-Null Count   Dtype   \n",
      "---  ------                  --------------   -----   \n",
      " 0   JobsReatained           150000 non-null  float64 \n",
      " 1   JobsCreated             150000 non-null  float64 \n",
      " 2   GuaranteedApprovedLoan  150000 non-null  float64 \n",
      " 3   ChargedOffAmount        150000 non-null  float64 \n",
      " 4   GrossAmountBalance      150000 non-null  float64 \n",
      " 5   CountEmployees          150000 non-null  float64 \n",
      " 6   ClassificationCode      150000 non-null  float64 \n",
      " 7   LoanApprovedGross       150000 non-null  float64 \n",
      " 8   GrossAmountDisbursed    150000 non-null  float64 \n",
      " 9   LoanTerm                150000 non-null  float64 \n",
      " 10  PrimaryLoanDigit        150000 non-null  float64 \n",
      " 11  Business                150000 non-null  category\n",
      " 12  LowDocumentationLoan    150000 non-null  category\n",
      " 13  Demography              150000 non-null  category\n",
      " 14  BorrowerState           150000 non-null  category\n",
      " 15  RevolvingCreditLine     150000 non-null  category\n",
      " 16  Default                 105000 non-null  category\n",
      "dtypes: category(6), float64(11)\n",
      "memory usage: 13.4 MB\n"
     ]
    }
   ],
   "source": [
    "new_combine_df.info()\n"
   ]
  },
  {
   "cell_type": "code",
   "execution_count": 72,
   "id": "43a839be",
   "metadata": {},
   "outputs": [
    {
     "data": {
      "text/plain": [
       "True"
      ]
     },
     "execution_count": 72,
     "metadata": {},
     "output_type": "execute_result"
    }
   ],
   "source": [
    "# Verifying that everything combined correctly \n",
    "(new_combine_df.loc[:,(new_combine_df.dtypes == 'category')].sort_index(inplace=True) == \n",
    " cat_df[['Business','LowDocumentationLoan','Demography',\n",
    "           'BorrowerState','RevolvingCreditLine','Default']].sort_index(inplace=True))"
   ]
  },
  {
   "cell_type": "code",
   "execution_count": 73,
   "id": "39ddf721",
   "metadata": {},
   "outputs": [
    {
     "data": {
      "text/plain": [
       "True"
      ]
     },
     "execution_count": 73,
     "metadata": {},
     "output_type": "execute_result"
    }
   ],
   "source": [
    "(data_scaled[['JobsReatained', 'JobsCreated', 'GuaranteedApprovedLoan',\n",
    "       'ChargedOffAmount', 'GrossAmountBalance', 'CountEmployees',\n",
    "       'ClassificationCode', 'LoanApprovedGross', 'GrossAmountDisbursed',\n",
    "       'LoanTerm', 'PrimaryLoanDigit']].sort_index(inplace=True) == \n",
    "new_combine_df.loc[:,(new_combine_df.dtypes == 'int')|(new_combine_df.dtypes == 'float')].sort_index(inplace=True) )"
   ]
  },
  {
   "cell_type": "code",
   "execution_count": 74,
   "id": "ac1342b7",
   "metadata": {},
   "outputs": [
    {
     "name": "stdout",
     "output_type": "stream",
     "text": [
      "Checking correct shape: (150000, 17)\n"
     ]
    },
    {
     "data": {
      "text/html": [
       "<div>\n",
       "<style scoped>\n",
       "    .dataframe tbody tr th:only-of-type {\n",
       "        vertical-align: middle;\n",
       "    }\n",
       "\n",
       "    .dataframe tbody tr th {\n",
       "        vertical-align: top;\n",
       "    }\n",
       "\n",
       "    .dataframe thead th {\n",
       "        text-align: right;\n",
       "    }\n",
       "</style>\n",
       "<table border=\"1\" class=\"dataframe\">\n",
       "  <thead>\n",
       "    <tr style=\"text-align: right;\">\n",
       "      <th></th>\n",
       "      <th>JobsReatained</th>\n",
       "      <th>JobsCreated</th>\n",
       "      <th>GuaranteedApprovedLoan</th>\n",
       "      <th>ChargedOffAmount</th>\n",
       "      <th>GrossAmountBalance</th>\n",
       "      <th>CountEmployees</th>\n",
       "      <th>ClassificationCode</th>\n",
       "      <th>LoanApprovedGross</th>\n",
       "      <th>GrossAmountDisbursed</th>\n",
       "      <th>LoanTerm</th>\n",
       "      <th>PrimaryLoanDigit</th>\n",
       "      <th>Business</th>\n",
       "      <th>LowDocumentationLoan</th>\n",
       "      <th>Demography</th>\n",
       "      <th>BorrowerState</th>\n",
       "      <th>RevolvingCreditLine</th>\n",
       "      <th>Default</th>\n",
       "    </tr>\n",
       "  </thead>\n",
       "  <tbody>\n",
       "    <tr>\n",
       "      <th>0</th>\n",
       "      <td>-0.25</td>\n",
       "      <td>0.0</td>\n",
       "      <td>2.500000</td>\n",
       "      <td>0.000000</td>\n",
       "      <td>0.0</td>\n",
       "      <td>4.857143</td>\n",
       "      <td>-1.373083</td>\n",
       "      <td>2.366197</td>\n",
       "      <td>2.194861</td>\n",
       "      <td>0.000000</td>\n",
       "      <td>0.071863</td>\n",
       "      <td>Existing</td>\n",
       "      <td>No</td>\n",
       "      <td>Undefined</td>\n",
       "      <td>WESTERN_REGION</td>\n",
       "      <td>No</td>\n",
       "      <td>0</td>\n",
       "    </tr>\n",
       "    <tr>\n",
       "      <th>1</th>\n",
       "      <td>-0.25</td>\n",
       "      <td>6.0</td>\n",
       "      <td>2.466596</td>\n",
       "      <td>61.036835</td>\n",
       "      <td>0.0</td>\n",
       "      <td>0.285714</td>\n",
       "      <td>0.012315</td>\n",
       "      <td>2.574648</td>\n",
       "      <td>2.395948</td>\n",
       "      <td>-0.033333</td>\n",
       "      <td>-0.563248</td>\n",
       "      <td>New</td>\n",
       "      <td>No</td>\n",
       "      <td>Urban</td>\n",
       "      <td>NORTHERN_REGION</td>\n",
       "      <td>0</td>\n",
       "      <td>1</td>\n",
       "    </tr>\n",
       "    <tr>\n",
       "      <th>2</th>\n",
       "      <td>0.75</td>\n",
       "      <td>0.0</td>\n",
       "      <td>-0.242616</td>\n",
       "      <td>0.000000</td>\n",
       "      <td>0.0</td>\n",
       "      <td>0.000000</td>\n",
       "      <td>0.290236</td>\n",
       "      <td>-0.253521</td>\n",
       "      <td>-0.123921</td>\n",
       "      <td>-0.400000</td>\n",
       "      <td>0.785490</td>\n",
       "      <td>Existing</td>\n",
       "      <td>No</td>\n",
       "      <td>Urban</td>\n",
       "      <td>SOUTHERN_REGION</td>\n",
       "      <td>Yes</td>\n",
       "      <td>0</td>\n",
       "    </tr>\n",
       "    <tr>\n",
       "      <th>3</th>\n",
       "      <td>2.00</td>\n",
       "      <td>1.0</td>\n",
       "      <td>-0.189873</td>\n",
       "      <td>0.000000</td>\n",
       "      <td>0.0</td>\n",
       "      <td>0.428571</td>\n",
       "      <td>1.117856</td>\n",
       "      <td>-0.169014</td>\n",
       "      <td>-0.250791</td>\n",
       "      <td>0.000000</td>\n",
       "      <td>-0.591617</td>\n",
       "      <td>New</td>\n",
       "      <td>No</td>\n",
       "      <td>Urban</td>\n",
       "      <td>WESTERN_REGION</td>\n",
       "      <td>Yes</td>\n",
       "      <td>0</td>\n",
       "    </tr>\n",
       "    <tr>\n",
       "      <th>4</th>\n",
       "      <td>0.75</td>\n",
       "      <td>0.0</td>\n",
       "      <td>1.622714</td>\n",
       "      <td>36.450708</td>\n",
       "      <td>0.0</td>\n",
       "      <td>0.000000</td>\n",
       "      <td>0.844840</td>\n",
       "      <td>1.673239</td>\n",
       "      <td>1.526383</td>\n",
       "      <td>-0.244444</td>\n",
       "      <td>0.919774</td>\n",
       "      <td>Existing</td>\n",
       "      <td>No</td>\n",
       "      <td>Urban</td>\n",
       "      <td>SOUTHERN_REGION</td>\n",
       "      <td>0</td>\n",
       "      <td>1</td>\n",
       "    </tr>\n",
       "  </tbody>\n",
       "</table>\n",
       "</div>"
      ],
      "text/plain": [
       "   JobsReatained  JobsCreated  GuaranteedApprovedLoan  ChargedOffAmount  \\\n",
       "0          -0.25          0.0                2.500000          0.000000   \n",
       "1          -0.25          6.0                2.466596         61.036835   \n",
       "2           0.75          0.0               -0.242616          0.000000   \n",
       "3           2.00          1.0               -0.189873          0.000000   \n",
       "4           0.75          0.0                1.622714         36.450708   \n",
       "\n",
       "   GrossAmountBalance  CountEmployees  ClassificationCode  LoanApprovedGross  \\\n",
       "0                 0.0        4.857143           -1.373083           2.366197   \n",
       "1                 0.0        0.285714            0.012315           2.574648   \n",
       "2                 0.0        0.000000            0.290236          -0.253521   \n",
       "3                 0.0        0.428571            1.117856          -0.169014   \n",
       "4                 0.0        0.000000            0.844840           1.673239   \n",
       "\n",
       "   GrossAmountDisbursed  LoanTerm  PrimaryLoanDigit  Business  \\\n",
       "0              2.194861  0.000000          0.071863  Existing   \n",
       "1              2.395948 -0.033333         -0.563248       New   \n",
       "2             -0.123921 -0.400000          0.785490  Existing   \n",
       "3             -0.250791  0.000000         -0.591617       New   \n",
       "4              1.526383 -0.244444          0.919774  Existing   \n",
       "\n",
       "  LowDocumentationLoan Demography    BorrowerState RevolvingCreditLine Default  \n",
       "0                   No  Undefined   WESTERN_REGION                  No       0  \n",
       "1                   No      Urban  NORTHERN_REGION                   0       1  \n",
       "2                   No      Urban  SOUTHERN_REGION                 Yes       0  \n",
       "3                   No      Urban   WESTERN_REGION                 Yes       0  \n",
       "4                   No      Urban  SOUTHERN_REGION                   0       1  "
      ]
     },
     "execution_count": 74,
     "metadata": {},
     "output_type": "execute_result"
    }
   ],
   "source": [
    "print('Checking correct shape:',new_combine_df.shape)\n",
    "new_combine_df.head()"
   ]
  },
  {
   "cell_type": "markdown",
   "id": "e768bf05",
   "metadata": {},
   "source": [
    "### Separating Dataset into Train/Test."
   ]
  },
  {
   "cell_type": "code",
   "execution_count": 75,
   "id": "403747ff",
   "metadata": {},
   "outputs": [
    {
     "data": {
      "text/html": [
       "<div>\n",
       "<style scoped>\n",
       "    .dataframe tbody tr th:only-of-type {\n",
       "        vertical-align: middle;\n",
       "    }\n",
       "\n",
       "    .dataframe tbody tr th {\n",
       "        vertical-align: top;\n",
       "    }\n",
       "\n",
       "    .dataframe thead th {\n",
       "        text-align: right;\n",
       "    }\n",
       "</style>\n",
       "<table border=\"1\" class=\"dataframe\">\n",
       "  <thead>\n",
       "    <tr style=\"text-align: right;\">\n",
       "      <th></th>\n",
       "      <th>JobsReatained</th>\n",
       "      <th>JobsCreated</th>\n",
       "      <th>GuaranteedApprovedLoan</th>\n",
       "      <th>ChargedOffAmount</th>\n",
       "      <th>GrossAmountBalance</th>\n",
       "      <th>CountEmployees</th>\n",
       "      <th>ClassificationCode</th>\n",
       "      <th>LoanApprovedGross</th>\n",
       "      <th>GrossAmountDisbursed</th>\n",
       "      <th>LoanTerm</th>\n",
       "      <th>PrimaryLoanDigit</th>\n",
       "      <th>Business</th>\n",
       "      <th>LowDocumentationLoan</th>\n",
       "      <th>Demography</th>\n",
       "      <th>BorrowerState</th>\n",
       "      <th>RevolvingCreditLine</th>\n",
       "      <th>Default</th>\n",
       "    </tr>\n",
       "  </thead>\n",
       "  <tbody>\n",
       "    <tr>\n",
       "      <th>104998</th>\n",
       "      <td>-0.25</td>\n",
       "      <td>3.0</td>\n",
       "      <td>0.569620</td>\n",
       "      <td>0.000000</td>\n",
       "      <td>0.0</td>\n",
       "      <td>5.000000</td>\n",
       "      <td>0.350710</td>\n",
       "      <td>0.298592</td>\n",
       "      <td>0.140514</td>\n",
       "      <td>2.600000</td>\n",
       "      <td>-0.350420</td>\n",
       "      <td>Existing</td>\n",
       "      <td>No</td>\n",
       "      <td>Urban</td>\n",
       "      <td>NORTHERN_REGION</td>\n",
       "      <td>0</td>\n",
       "      <td>0</td>\n",
       "    </tr>\n",
       "    <tr>\n",
       "      <th>104999</th>\n",
       "      <td>-0.25</td>\n",
       "      <td>0.0</td>\n",
       "      <td>0.530942</td>\n",
       "      <td>0.000000</td>\n",
       "      <td>0.0</td>\n",
       "      <td>0.000000</td>\n",
       "      <td>0.819440</td>\n",
       "      <td>0.394366</td>\n",
       "      <td>0.292687</td>\n",
       "      <td>0.600000</td>\n",
       "      <td>0.189135</td>\n",
       "      <td>New</td>\n",
       "      <td>Yes</td>\n",
       "      <td>Urban</td>\n",
       "      <td>WESTERN_REGION</td>\n",
       "      <td>0</td>\n",
       "      <td>0</td>\n",
       "    </tr>\n",
       "    <tr>\n",
       "      <th>105000</th>\n",
       "      <td>4.50</td>\n",
       "      <td>0.0</td>\n",
       "      <td>-0.014065</td>\n",
       "      <td>12.835715</td>\n",
       "      <td>0.0</td>\n",
       "      <td>1.857143</td>\n",
       "      <td>-0.371320</td>\n",
       "      <td>0.112676</td>\n",
       "      <td>0.106258</td>\n",
       "      <td>-0.766667</td>\n",
       "      <td>-0.564882</td>\n",
       "      <td>Existing</td>\n",
       "      <td>No</td>\n",
       "      <td>Urban</td>\n",
       "      <td>NORTHERN_REGION</td>\n",
       "      <td>Yes</td>\n",
       "      <td>NaN</td>\n",
       "    </tr>\n",
       "    <tr>\n",
       "      <th>105001</th>\n",
       "      <td>-0.25</td>\n",
       "      <td>0.0</td>\n",
       "      <td>-0.239100</td>\n",
       "      <td>0.000000</td>\n",
       "      <td>0.0</td>\n",
       "      <td>-0.285714</td>\n",
       "      <td>-1.373083</td>\n",
       "      <td>-0.338028</td>\n",
       "      <td>-0.413834</td>\n",
       "      <td>-0.400000</td>\n",
       "      <td>0.889565</td>\n",
       "      <td>Existing</td>\n",
       "      <td>Yes</td>\n",
       "      <td>Undefined</td>\n",
       "      <td>SOUTHERN_REGION</td>\n",
       "      <td>No</td>\n",
       "      <td>NaN</td>\n",
       "    </tr>\n",
       "    <tr>\n",
       "      <th>105002</th>\n",
       "      <td>1.50</td>\n",
       "      <td>5.0</td>\n",
       "      <td>-0.295359</td>\n",
       "      <td>2.591765</td>\n",
       "      <td>0.0</td>\n",
       "      <td>-0.285714</td>\n",
       "      <td>0.290214</td>\n",
       "      <td>-0.338028</td>\n",
       "      <td>-0.291823</td>\n",
       "      <td>-0.500000</td>\n",
       "      <td>-0.410484</td>\n",
       "      <td>Existing</td>\n",
       "      <td>No</td>\n",
       "      <td>Urban</td>\n",
       "      <td>NORTHERN_REGION</td>\n",
       "      <td>Yes</td>\n",
       "      <td>NaN</td>\n",
       "    </tr>\n",
       "  </tbody>\n",
       "</table>\n",
       "</div>"
      ],
      "text/plain": [
       "        JobsReatained  JobsCreated  GuaranteedApprovedLoan  ChargedOffAmount  \\\n",
       "104998          -0.25          3.0                0.569620          0.000000   \n",
       "104999          -0.25          0.0                0.530942          0.000000   \n",
       "105000           4.50          0.0               -0.014065         12.835715   \n",
       "105001          -0.25          0.0               -0.239100          0.000000   \n",
       "105002           1.50          5.0               -0.295359          2.591765   \n",
       "\n",
       "        GrossAmountBalance  CountEmployees  ClassificationCode  \\\n",
       "104998                 0.0        5.000000            0.350710   \n",
       "104999                 0.0        0.000000            0.819440   \n",
       "105000                 0.0        1.857143           -0.371320   \n",
       "105001                 0.0       -0.285714           -1.373083   \n",
       "105002                 0.0       -0.285714            0.290214   \n",
       "\n",
       "        LoanApprovedGross  GrossAmountDisbursed  LoanTerm  PrimaryLoanDigit  \\\n",
       "104998           0.298592              0.140514  2.600000         -0.350420   \n",
       "104999           0.394366              0.292687  0.600000          0.189135   \n",
       "105000           0.112676              0.106258 -0.766667         -0.564882   \n",
       "105001          -0.338028             -0.413834 -0.400000          0.889565   \n",
       "105002          -0.338028             -0.291823 -0.500000         -0.410484   \n",
       "\n",
       "        Business LowDocumentationLoan Demography    BorrowerState  \\\n",
       "104998  Existing                   No      Urban  NORTHERN_REGION   \n",
       "104999       New                  Yes      Urban   WESTERN_REGION   \n",
       "105000  Existing                   No      Urban  NORTHERN_REGION   \n",
       "105001  Existing                  Yes  Undefined  SOUTHERN_REGION   \n",
       "105002  Existing                   No      Urban  NORTHERN_REGION   \n",
       "\n",
       "       RevolvingCreditLine Default  \n",
       "104998                   0       0  \n",
       "104999                   0       0  \n",
       "105000                 Yes     NaN  \n",
       "105001                  No     NaN  \n",
       "105002                 Yes     NaN  "
      ]
     },
     "execution_count": 75,
     "metadata": {},
     "output_type": "execute_result"
    }
   ],
   "source": [
    "# Showing the end and start of the combined train/test dataset\n",
    "new_combine_df.iloc[train.shape[0]-2:train.shape[0]+3,]"
   ]
  },
  {
   "cell_type": "code",
   "execution_count": 83,
   "id": "8f03076f",
   "metadata": {},
   "outputs": [
    {
     "data": {
      "text/html": [
       "<div>\n",
       "<style scoped>\n",
       "    .dataframe tbody tr th:only-of-type {\n",
       "        vertical-align: middle;\n",
       "    }\n",
       "\n",
       "    .dataframe tbody tr th {\n",
       "        vertical-align: top;\n",
       "    }\n",
       "\n",
       "    .dataframe thead th {\n",
       "        text-align: right;\n",
       "    }\n",
       "</style>\n",
       "<table border=\"1\" class=\"dataframe\">\n",
       "  <thead>\n",
       "    <tr style=\"text-align: right;\">\n",
       "      <th></th>\n",
       "      <th>JobsReatained</th>\n",
       "      <th>JobsCreated</th>\n",
       "      <th>GuaranteedApprovedLoan</th>\n",
       "      <th>ChargedOffAmount</th>\n",
       "      <th>GrossAmountBalance</th>\n",
       "      <th>CountEmployees</th>\n",
       "      <th>ClassificationCode</th>\n",
       "      <th>LoanApprovedGross</th>\n",
       "      <th>GrossAmountDisbursed</th>\n",
       "      <th>LoanTerm</th>\n",
       "      <th>PrimaryLoanDigit</th>\n",
       "      <th>Business</th>\n",
       "      <th>LowDocumentationLoan</th>\n",
       "      <th>Demography</th>\n",
       "      <th>BorrowerState</th>\n",
       "      <th>RevolvingCreditLine</th>\n",
       "      <th>Default</th>\n",
       "    </tr>\n",
       "  </thead>\n",
       "  <tbody>\n",
       "    <tr>\n",
       "      <th>0</th>\n",
       "      <td>-0.25</td>\n",
       "      <td>0.0</td>\n",
       "      <td>2.500000</td>\n",
       "      <td>0.000000</td>\n",
       "      <td>0.0</td>\n",
       "      <td>4.857143</td>\n",
       "      <td>-1.373083</td>\n",
       "      <td>2.366197</td>\n",
       "      <td>2.194861</td>\n",
       "      <td>0.000000</td>\n",
       "      <td>0.071863</td>\n",
       "      <td>Existing</td>\n",
       "      <td>No</td>\n",
       "      <td>Undefined</td>\n",
       "      <td>WESTERN_REGION</td>\n",
       "      <td>No</td>\n",
       "      <td>0</td>\n",
       "    </tr>\n",
       "    <tr>\n",
       "      <th>1</th>\n",
       "      <td>-0.25</td>\n",
       "      <td>6.0</td>\n",
       "      <td>2.466596</td>\n",
       "      <td>61.036835</td>\n",
       "      <td>0.0</td>\n",
       "      <td>0.285714</td>\n",
       "      <td>0.012315</td>\n",
       "      <td>2.574648</td>\n",
       "      <td>2.395948</td>\n",
       "      <td>-0.033333</td>\n",
       "      <td>-0.563248</td>\n",
       "      <td>New</td>\n",
       "      <td>No</td>\n",
       "      <td>Urban</td>\n",
       "      <td>NORTHERN_REGION</td>\n",
       "      <td>0</td>\n",
       "      <td>1</td>\n",
       "    </tr>\n",
       "    <tr>\n",
       "      <th>2</th>\n",
       "      <td>0.75</td>\n",
       "      <td>0.0</td>\n",
       "      <td>-0.242616</td>\n",
       "      <td>0.000000</td>\n",
       "      <td>0.0</td>\n",
       "      <td>0.000000</td>\n",
       "      <td>0.290236</td>\n",
       "      <td>-0.253521</td>\n",
       "      <td>-0.123921</td>\n",
       "      <td>-0.400000</td>\n",
       "      <td>0.785490</td>\n",
       "      <td>Existing</td>\n",
       "      <td>No</td>\n",
       "      <td>Urban</td>\n",
       "      <td>SOUTHERN_REGION</td>\n",
       "      <td>Yes</td>\n",
       "      <td>0</td>\n",
       "    </tr>\n",
       "    <tr>\n",
       "      <th>3</th>\n",
       "      <td>2.00</td>\n",
       "      <td>1.0</td>\n",
       "      <td>-0.189873</td>\n",
       "      <td>0.000000</td>\n",
       "      <td>0.0</td>\n",
       "      <td>0.428571</td>\n",
       "      <td>1.117856</td>\n",
       "      <td>-0.169014</td>\n",
       "      <td>-0.250791</td>\n",
       "      <td>0.000000</td>\n",
       "      <td>-0.591617</td>\n",
       "      <td>New</td>\n",
       "      <td>No</td>\n",
       "      <td>Urban</td>\n",
       "      <td>WESTERN_REGION</td>\n",
       "      <td>Yes</td>\n",
       "      <td>0</td>\n",
       "    </tr>\n",
       "    <tr>\n",
       "      <th>4</th>\n",
       "      <td>0.75</td>\n",
       "      <td>0.0</td>\n",
       "      <td>1.622714</td>\n",
       "      <td>36.450708</td>\n",
       "      <td>0.0</td>\n",
       "      <td>0.000000</td>\n",
       "      <td>0.844840</td>\n",
       "      <td>1.673239</td>\n",
       "      <td>1.526383</td>\n",
       "      <td>-0.244444</td>\n",
       "      <td>0.919774</td>\n",
       "      <td>Existing</td>\n",
       "      <td>No</td>\n",
       "      <td>Urban</td>\n",
       "      <td>SOUTHERN_REGION</td>\n",
       "      <td>0</td>\n",
       "      <td>1</td>\n",
       "    </tr>\n",
       "  </tbody>\n",
       "</table>\n",
       "</div>"
      ],
      "text/plain": [
       "   JobsReatained  JobsCreated  GuaranteedApprovedLoan  ChargedOffAmount  \\\n",
       "0          -0.25          0.0                2.500000          0.000000   \n",
       "1          -0.25          6.0                2.466596         61.036835   \n",
       "2           0.75          0.0               -0.242616          0.000000   \n",
       "3           2.00          1.0               -0.189873          0.000000   \n",
       "4           0.75          0.0                1.622714         36.450708   \n",
       "\n",
       "   GrossAmountBalance  CountEmployees  ClassificationCode  LoanApprovedGross  \\\n",
       "0                 0.0        4.857143           -1.373083           2.366197   \n",
       "1                 0.0        0.285714            0.012315           2.574648   \n",
       "2                 0.0        0.000000            0.290236          -0.253521   \n",
       "3                 0.0        0.428571            1.117856          -0.169014   \n",
       "4                 0.0        0.000000            0.844840           1.673239   \n",
       "\n",
       "   GrossAmountDisbursed  LoanTerm  PrimaryLoanDigit  Business  \\\n",
       "0              2.194861  0.000000          0.071863  Existing   \n",
       "1              2.395948 -0.033333         -0.563248       New   \n",
       "2             -0.123921 -0.400000          0.785490  Existing   \n",
       "3             -0.250791  0.000000         -0.591617       New   \n",
       "4              1.526383 -0.244444          0.919774  Existing   \n",
       "\n",
       "  LowDocumentationLoan Demography    BorrowerState RevolvingCreditLine Default  \n",
       "0                   No  Undefined   WESTERN_REGION                  No       0  \n",
       "1                   No      Urban  NORTHERN_REGION                   0       1  \n",
       "2                   No      Urban  SOUTHERN_REGION                 Yes       0  \n",
       "3                   No      Urban   WESTERN_REGION                 Yes       0  \n",
       "4                   No      Urban  SOUTHERN_REGION                   0       1  "
      ]
     },
     "execution_count": 83,
     "metadata": {},
     "output_type": "execute_result"
    }
   ],
   "source": [
    "'''Upon the completion of dataset curation, \n",
    "separate the combine_df into its respective train/test dataset.'''\n",
    "train = new_combine_df.iloc[0:train.shape[0],].reset_index(drop=True)\n",
    "train.head()"
   ]
  },
  {
   "cell_type": "code",
   "execution_count": 84,
   "id": "87bf5088",
   "metadata": {},
   "outputs": [
    {
     "name": "stdout",
     "output_type": "stream",
     "text": [
      "<class 'pandas.core.frame.DataFrame'>\n",
      "RangeIndex: 105000 entries, 0 to 104999\n",
      "Data columns (total 17 columns):\n",
      " #   Column                  Non-Null Count   Dtype   \n",
      "---  ------                  --------------   -----   \n",
      " 0   JobsReatained           105000 non-null  float64 \n",
      " 1   JobsCreated             105000 non-null  float64 \n",
      " 2   GuaranteedApprovedLoan  105000 non-null  float64 \n",
      " 3   ChargedOffAmount        105000 non-null  float64 \n",
      " 4   GrossAmountBalance      105000 non-null  float64 \n",
      " 5   CountEmployees          105000 non-null  float64 \n",
      " 6   ClassificationCode      105000 non-null  float64 \n",
      " 7   LoanApprovedGross       105000 non-null  float64 \n",
      " 8   GrossAmountDisbursed    105000 non-null  float64 \n",
      " 9   LoanTerm                105000 non-null  float64 \n",
      " 10  PrimaryLoanDigit        105000 non-null  float64 \n",
      " 11  Business                105000 non-null  category\n",
      " 12  LowDocumentationLoan    105000 non-null  category\n",
      " 13  Demography              105000 non-null  category\n",
      " 14  BorrowerState           105000 non-null  category\n",
      " 15  RevolvingCreditLine     105000 non-null  category\n",
      " 16  Default                 105000 non-null  category\n",
      "dtypes: category(6), float64(11)\n",
      "memory usage: 9.4 MB\n"
     ]
    }
   ],
   "source": [
    "train.info()"
   ]
  },
  {
   "cell_type": "code",
   "execution_count": 77,
   "id": "9b60b460",
   "metadata": {},
   "outputs": [
    {
     "name": "stdout",
     "output_type": "stream",
     "text": [
      "<class 'pandas.core.frame.DataFrame'>\n",
      "RangeIndex: 45000 entries, 0 to 44999\n",
      "Data columns (total 16 columns):\n",
      " #   Column                  Non-Null Count  Dtype   \n",
      "---  ------                  --------------  -----   \n",
      " 0   JobsReatained           45000 non-null  float64 \n",
      " 1   JobsCreated             45000 non-null  float64 \n",
      " 2   GuaranteedApprovedLoan  45000 non-null  float64 \n",
      " 3   ChargedOffAmount        45000 non-null  float64 \n",
      " 4   GrossAmountBalance      45000 non-null  float64 \n",
      " 5   CountEmployees          45000 non-null  float64 \n",
      " 6   ClassificationCode      45000 non-null  float64 \n",
      " 7   LoanApprovedGross       45000 non-null  float64 \n",
      " 8   GrossAmountDisbursed    45000 non-null  float64 \n",
      " 9   LoanTerm                45000 non-null  float64 \n",
      " 10  PrimaryLoanDigit        45000 non-null  float64 \n",
      " 11  Business                45000 non-null  category\n",
      " 12  LowDocumentationLoan    45000 non-null  category\n",
      " 13  Demography              45000 non-null  category\n",
      " 14  BorrowerState           45000 non-null  category\n",
      " 15  RevolvingCreditLine     45000 non-null  category\n",
      "dtypes: category(5), float64(11)\n",
      "memory usage: 4.0 MB\n"
     ]
    }
   ],
   "source": [
    "test = new_combine_df.iloc[train.shape[0]:,].reset_index(drop=True)\n",
    "test = test[test.columns.drop('Default')]\n",
    "test.info()\n"
   ]
  },
  {
   "cell_type": "code",
   "execution_count": 78,
   "id": "55cb64d8",
   "metadata": {},
   "outputs": [],
   "source": [
    "# Using the post split data\n",
    "X = train.iloc[:,:-1]\n",
    "Y = train['Default']"
   ]
  },
  {
   "cell_type": "code",
   "execution_count": 79,
   "id": "69ab91d1",
   "metadata": {},
   "outputs": [
    {
     "data": {
      "text/html": [
       "<div>\n",
       "<style scoped>\n",
       "    .dataframe tbody tr th:only-of-type {\n",
       "        vertical-align: middle;\n",
       "    }\n",
       "\n",
       "    .dataframe tbody tr th {\n",
       "        vertical-align: top;\n",
       "    }\n",
       "\n",
       "    .dataframe thead th {\n",
       "        text-align: right;\n",
       "    }\n",
       "</style>\n",
       "<table border=\"1\" class=\"dataframe\">\n",
       "  <thead>\n",
       "    <tr style=\"text-align: right;\">\n",
       "      <th></th>\n",
       "      <th>JobsReatained</th>\n",
       "      <th>JobsCreated</th>\n",
       "      <th>GuaranteedApprovedLoan</th>\n",
       "      <th>ChargedOffAmount</th>\n",
       "      <th>GrossAmountBalance</th>\n",
       "      <th>CountEmployees</th>\n",
       "      <th>ClassificationCode</th>\n",
       "      <th>LoanApprovedGross</th>\n",
       "      <th>GrossAmountDisbursed</th>\n",
       "      <th>LoanTerm</th>\n",
       "      <th>PrimaryLoanDigit</th>\n",
       "      <th>Business</th>\n",
       "      <th>LowDocumentationLoan</th>\n",
       "      <th>Demography</th>\n",
       "      <th>BorrowerState</th>\n",
       "      <th>RevolvingCreditLine</th>\n",
       "    </tr>\n",
       "  </thead>\n",
       "  <tbody>\n",
       "    <tr>\n",
       "      <th>0</th>\n",
       "      <td>-0.25</td>\n",
       "      <td>0.0</td>\n",
       "      <td>2.500000</td>\n",
       "      <td>0.000000</td>\n",
       "      <td>0.0</td>\n",
       "      <td>4.857143</td>\n",
       "      <td>-1.373083</td>\n",
       "      <td>2.366197</td>\n",
       "      <td>2.194861</td>\n",
       "      <td>0.000000</td>\n",
       "      <td>0.071863</td>\n",
       "      <td>Existing</td>\n",
       "      <td>No</td>\n",
       "      <td>Undefined</td>\n",
       "      <td>WESTERN_REGION</td>\n",
       "      <td>No</td>\n",
       "    </tr>\n",
       "    <tr>\n",
       "      <th>1</th>\n",
       "      <td>-0.25</td>\n",
       "      <td>6.0</td>\n",
       "      <td>2.466596</td>\n",
       "      <td>61.036835</td>\n",
       "      <td>0.0</td>\n",
       "      <td>0.285714</td>\n",
       "      <td>0.012315</td>\n",
       "      <td>2.574648</td>\n",
       "      <td>2.395948</td>\n",
       "      <td>-0.033333</td>\n",
       "      <td>-0.563248</td>\n",
       "      <td>New</td>\n",
       "      <td>No</td>\n",
       "      <td>Urban</td>\n",
       "      <td>NORTHERN_REGION</td>\n",
       "      <td>0</td>\n",
       "    </tr>\n",
       "    <tr>\n",
       "      <th>2</th>\n",
       "      <td>0.75</td>\n",
       "      <td>0.0</td>\n",
       "      <td>-0.242616</td>\n",
       "      <td>0.000000</td>\n",
       "      <td>0.0</td>\n",
       "      <td>0.000000</td>\n",
       "      <td>0.290236</td>\n",
       "      <td>-0.253521</td>\n",
       "      <td>-0.123921</td>\n",
       "      <td>-0.400000</td>\n",
       "      <td>0.785490</td>\n",
       "      <td>Existing</td>\n",
       "      <td>No</td>\n",
       "      <td>Urban</td>\n",
       "      <td>SOUTHERN_REGION</td>\n",
       "      <td>Yes</td>\n",
       "    </tr>\n",
       "    <tr>\n",
       "      <th>3</th>\n",
       "      <td>2.00</td>\n",
       "      <td>1.0</td>\n",
       "      <td>-0.189873</td>\n",
       "      <td>0.000000</td>\n",
       "      <td>0.0</td>\n",
       "      <td>0.428571</td>\n",
       "      <td>1.117856</td>\n",
       "      <td>-0.169014</td>\n",
       "      <td>-0.250791</td>\n",
       "      <td>0.000000</td>\n",
       "      <td>-0.591617</td>\n",
       "      <td>New</td>\n",
       "      <td>No</td>\n",
       "      <td>Urban</td>\n",
       "      <td>WESTERN_REGION</td>\n",
       "      <td>Yes</td>\n",
       "    </tr>\n",
       "    <tr>\n",
       "      <th>4</th>\n",
       "      <td>0.75</td>\n",
       "      <td>0.0</td>\n",
       "      <td>1.622714</td>\n",
       "      <td>36.450708</td>\n",
       "      <td>0.0</td>\n",
       "      <td>0.000000</td>\n",
       "      <td>0.844840</td>\n",
       "      <td>1.673239</td>\n",
       "      <td>1.526383</td>\n",
       "      <td>-0.244444</td>\n",
       "      <td>0.919774</td>\n",
       "      <td>Existing</td>\n",
       "      <td>No</td>\n",
       "      <td>Urban</td>\n",
       "      <td>SOUTHERN_REGION</td>\n",
       "      <td>0</td>\n",
       "    </tr>\n",
       "    <tr>\n",
       "      <th>...</th>\n",
       "      <td>...</td>\n",
       "      <td>...</td>\n",
       "      <td>...</td>\n",
       "      <td>...</td>\n",
       "      <td>...</td>\n",
       "      <td>...</td>\n",
       "      <td>...</td>\n",
       "      <td>...</td>\n",
       "      <td>...</td>\n",
       "      <td>...</td>\n",
       "      <td>...</td>\n",
       "      <td>...</td>\n",
       "      <td>...</td>\n",
       "      <td>...</td>\n",
       "      <td>...</td>\n",
       "      <td>...</td>\n",
       "    </tr>\n",
       "    <tr>\n",
       "      <th>104995</th>\n",
       "      <td>-0.25</td>\n",
       "      <td>0.0</td>\n",
       "      <td>0.078762</td>\n",
       "      <td>0.000000</td>\n",
       "      <td>0.0</td>\n",
       "      <td>-0.428571</td>\n",
       "      <td>0.289658</td>\n",
       "      <td>-0.005634</td>\n",
       "      <td>-0.093182</td>\n",
       "      <td>0.600000</td>\n",
       "      <td>-0.396404</td>\n",
       "      <td>New</td>\n",
       "      <td>Yes</td>\n",
       "      <td>Undefined</td>\n",
       "      <td>EASTERN_REGION</td>\n",
       "      <td>0</td>\n",
       "    </tr>\n",
       "    <tr>\n",
       "      <th>104996</th>\n",
       "      <td>-0.25</td>\n",
       "      <td>0.0</td>\n",
       "      <td>0.232068</td>\n",
       "      <td>0.000000</td>\n",
       "      <td>0.0</td>\n",
       "      <td>-0.285714</td>\n",
       "      <td>0.012345</td>\n",
       "      <td>0.112676</td>\n",
       "      <td>0.020948</td>\n",
       "      <td>0.100000</td>\n",
       "      <td>0.618454</td>\n",
       "      <td>New</td>\n",
       "      <td>Yes</td>\n",
       "      <td>Rural</td>\n",
       "      <td>EASTERN_REGION</td>\n",
       "      <td>0</td>\n",
       "    </tr>\n",
       "    <tr>\n",
       "      <th>104997</th>\n",
       "      <td>1.25</td>\n",
       "      <td>0.0</td>\n",
       "      <td>-0.295359</td>\n",
       "      <td>1.548579</td>\n",
       "      <td>0.0</td>\n",
       "      <td>0.142857</td>\n",
       "      <td>0.844530</td>\n",
       "      <td>-0.338028</td>\n",
       "      <td>-0.413834</td>\n",
       "      <td>-1.022222</td>\n",
       "      <td>-0.568854</td>\n",
       "      <td>New</td>\n",
       "      <td>No</td>\n",
       "      <td>Urban</td>\n",
       "      <td>NORTHERN_REGION</td>\n",
       "      <td>No</td>\n",
       "    </tr>\n",
       "    <tr>\n",
       "      <th>104998</th>\n",
       "      <td>-0.25</td>\n",
       "      <td>3.0</td>\n",
       "      <td>0.569620</td>\n",
       "      <td>0.000000</td>\n",
       "      <td>0.0</td>\n",
       "      <td>5.000000</td>\n",
       "      <td>0.350710</td>\n",
       "      <td>0.298592</td>\n",
       "      <td>0.140514</td>\n",
       "      <td>2.600000</td>\n",
       "      <td>-0.350420</td>\n",
       "      <td>Existing</td>\n",
       "      <td>No</td>\n",
       "      <td>Urban</td>\n",
       "      <td>NORTHERN_REGION</td>\n",
       "      <td>0</td>\n",
       "    </tr>\n",
       "    <tr>\n",
       "      <th>104999</th>\n",
       "      <td>-0.25</td>\n",
       "      <td>0.0</td>\n",
       "      <td>0.530942</td>\n",
       "      <td>0.000000</td>\n",
       "      <td>0.0</td>\n",
       "      <td>0.000000</td>\n",
       "      <td>0.819440</td>\n",
       "      <td>0.394366</td>\n",
       "      <td>0.292687</td>\n",
       "      <td>0.600000</td>\n",
       "      <td>0.189135</td>\n",
       "      <td>New</td>\n",
       "      <td>Yes</td>\n",
       "      <td>Urban</td>\n",
       "      <td>WESTERN_REGION</td>\n",
       "      <td>0</td>\n",
       "    </tr>\n",
       "  </tbody>\n",
       "</table>\n",
       "<p>105000 rows × 16 columns</p>\n",
       "</div>"
      ],
      "text/plain": [
       "        JobsReatained  JobsCreated  GuaranteedApprovedLoan  ChargedOffAmount  \\\n",
       "0               -0.25          0.0                2.500000          0.000000   \n",
       "1               -0.25          6.0                2.466596         61.036835   \n",
       "2                0.75          0.0               -0.242616          0.000000   \n",
       "3                2.00          1.0               -0.189873          0.000000   \n",
       "4                0.75          0.0                1.622714         36.450708   \n",
       "...               ...          ...                     ...               ...   \n",
       "104995          -0.25          0.0                0.078762          0.000000   \n",
       "104996          -0.25          0.0                0.232068          0.000000   \n",
       "104997           1.25          0.0               -0.295359          1.548579   \n",
       "104998          -0.25          3.0                0.569620          0.000000   \n",
       "104999          -0.25          0.0                0.530942          0.000000   \n",
       "\n",
       "        GrossAmountBalance  CountEmployees  ClassificationCode  \\\n",
       "0                      0.0        4.857143           -1.373083   \n",
       "1                      0.0        0.285714            0.012315   \n",
       "2                      0.0        0.000000            0.290236   \n",
       "3                      0.0        0.428571            1.117856   \n",
       "4                      0.0        0.000000            0.844840   \n",
       "...                    ...             ...                 ...   \n",
       "104995                 0.0       -0.428571            0.289658   \n",
       "104996                 0.0       -0.285714            0.012345   \n",
       "104997                 0.0        0.142857            0.844530   \n",
       "104998                 0.0        5.000000            0.350710   \n",
       "104999                 0.0        0.000000            0.819440   \n",
       "\n",
       "        LoanApprovedGross  GrossAmountDisbursed  LoanTerm  PrimaryLoanDigit  \\\n",
       "0                2.366197              2.194861  0.000000          0.071863   \n",
       "1                2.574648              2.395948 -0.033333         -0.563248   \n",
       "2               -0.253521             -0.123921 -0.400000          0.785490   \n",
       "3               -0.169014             -0.250791  0.000000         -0.591617   \n",
       "4                1.673239              1.526383 -0.244444          0.919774   \n",
       "...                   ...                   ...       ...               ...   \n",
       "104995          -0.005634             -0.093182  0.600000         -0.396404   \n",
       "104996           0.112676              0.020948  0.100000          0.618454   \n",
       "104997          -0.338028             -0.413834 -1.022222         -0.568854   \n",
       "104998           0.298592              0.140514  2.600000         -0.350420   \n",
       "104999           0.394366              0.292687  0.600000          0.189135   \n",
       "\n",
       "        Business LowDocumentationLoan Demography    BorrowerState  \\\n",
       "0       Existing                   No  Undefined   WESTERN_REGION   \n",
       "1            New                   No      Urban  NORTHERN_REGION   \n",
       "2       Existing                   No      Urban  SOUTHERN_REGION   \n",
       "3            New                   No      Urban   WESTERN_REGION   \n",
       "4       Existing                   No      Urban  SOUTHERN_REGION   \n",
       "...          ...                  ...        ...              ...   \n",
       "104995       New                  Yes  Undefined   EASTERN_REGION   \n",
       "104996       New                  Yes      Rural   EASTERN_REGION   \n",
       "104997       New                   No      Urban  NORTHERN_REGION   \n",
       "104998  Existing                   No      Urban  NORTHERN_REGION   \n",
       "104999       New                  Yes      Urban   WESTERN_REGION   \n",
       "\n",
       "       RevolvingCreditLine  \n",
       "0                       No  \n",
       "1                        0  \n",
       "2                      Yes  \n",
       "3                      Yes  \n",
       "4                        0  \n",
       "...                    ...  \n",
       "104995                   0  \n",
       "104996                   0  \n",
       "104997                  No  \n",
       "104998                   0  \n",
       "104999                   0  \n",
       "\n",
       "[105000 rows x 16 columns]"
      ]
     },
     "execution_count": 79,
     "metadata": {},
     "output_type": "execute_result"
    }
   ],
   "source": [
    "X"
   ]
  },
  {
   "cell_type": "code",
   "execution_count": 80,
   "id": "37e2d1a7",
   "metadata": {},
   "outputs": [
    {
     "data": {
      "text/plain": [
       "0         0\n",
       "1         1\n",
       "2         0\n",
       "3         0\n",
       "4         1\n",
       "         ..\n",
       "104995    0\n",
       "104996    0\n",
       "104997    1\n",
       "104998    0\n",
       "104999    0\n",
       "Name: Default, Length: 105000, dtype: category\n",
       "Categories (2, int64): [0, 1]"
      ]
     },
     "execution_count": 80,
     "metadata": {},
     "output_type": "execute_result"
    }
   ],
   "source": [
    "Y"
   ]
  },
  {
   "cell_type": "markdown",
   "id": "c4449a1e",
   "metadata": {},
   "source": [
    "# Creating Train/Test Split "
   ]
  },
  {
   "cell_type": "code",
   "execution_count": 81,
   "id": "1d4b4776",
   "metadata": {},
   "outputs": [
    {
     "name": "stdout",
     "output_type": "stream",
     "text": [
      "(105000, 37) (105000,)\n"
     ]
    },
    {
     "data": {
      "text/html": [
       "<div>\n",
       "<style scoped>\n",
       "    .dataframe tbody tr th:only-of-type {\n",
       "        vertical-align: middle;\n",
       "    }\n",
       "\n",
       "    .dataframe tbody tr th {\n",
       "        vertical-align: top;\n",
       "    }\n",
       "\n",
       "    .dataframe thead th {\n",
       "        text-align: right;\n",
       "    }\n",
       "</style>\n",
       "<table border=\"1\" class=\"dataframe\">\n",
       "  <thead>\n",
       "    <tr style=\"text-align: right;\">\n",
       "      <th></th>\n",
       "      <th>JobsReatained</th>\n",
       "      <th>JobsCreated</th>\n",
       "      <th>GuaranteedApprovedLoan</th>\n",
       "      <th>ChargedOffAmount</th>\n",
       "      <th>GrossAmountBalance</th>\n",
       "      <th>CountEmployees</th>\n",
       "      <th>ClassificationCode</th>\n",
       "      <th>LoanApprovedGross</th>\n",
       "      <th>GrossAmountDisbursed</th>\n",
       "      <th>LoanTerm</th>\n",
       "      <th>...</th>\n",
       "      <th>RevolvingCreditLine_0</th>\n",
       "      <th>RevolvingCreditLine_1</th>\n",
       "      <th>RevolvingCreditLine_2</th>\n",
       "      <th>RevolvingCreditLine_4</th>\n",
       "      <th>RevolvingCreditLine_C</th>\n",
       "      <th>RevolvingCreditLine_No</th>\n",
       "      <th>RevolvingCreditLine_R</th>\n",
       "      <th>RevolvingCreditLine_T</th>\n",
       "      <th>RevolvingCreditLine_Yes</th>\n",
       "      <th>RevolvingCreditLine_`</th>\n",
       "    </tr>\n",
       "  </thead>\n",
       "  <tbody>\n",
       "    <tr>\n",
       "      <th>0</th>\n",
       "      <td>-0.25</td>\n",
       "      <td>0.0</td>\n",
       "      <td>2.500000</td>\n",
       "      <td>0.000000</td>\n",
       "      <td>0.0</td>\n",
       "      <td>4.857143</td>\n",
       "      <td>-1.373083</td>\n",
       "      <td>2.366197</td>\n",
       "      <td>2.194861</td>\n",
       "      <td>0.000000</td>\n",
       "      <td>...</td>\n",
       "      <td>0</td>\n",
       "      <td>0</td>\n",
       "      <td>0</td>\n",
       "      <td>0</td>\n",
       "      <td>0</td>\n",
       "      <td>1</td>\n",
       "      <td>0</td>\n",
       "      <td>0</td>\n",
       "      <td>0</td>\n",
       "      <td>0</td>\n",
       "    </tr>\n",
       "    <tr>\n",
       "      <th>1</th>\n",
       "      <td>-0.25</td>\n",
       "      <td>6.0</td>\n",
       "      <td>2.466596</td>\n",
       "      <td>61.036835</td>\n",
       "      <td>0.0</td>\n",
       "      <td>0.285714</td>\n",
       "      <td>0.012315</td>\n",
       "      <td>2.574648</td>\n",
       "      <td>2.395948</td>\n",
       "      <td>-0.033333</td>\n",
       "      <td>...</td>\n",
       "      <td>1</td>\n",
       "      <td>0</td>\n",
       "      <td>0</td>\n",
       "      <td>0</td>\n",
       "      <td>0</td>\n",
       "      <td>0</td>\n",
       "      <td>0</td>\n",
       "      <td>0</td>\n",
       "      <td>0</td>\n",
       "      <td>0</td>\n",
       "    </tr>\n",
       "    <tr>\n",
       "      <th>2</th>\n",
       "      <td>0.75</td>\n",
       "      <td>0.0</td>\n",
       "      <td>-0.242616</td>\n",
       "      <td>0.000000</td>\n",
       "      <td>0.0</td>\n",
       "      <td>0.000000</td>\n",
       "      <td>0.290236</td>\n",
       "      <td>-0.253521</td>\n",
       "      <td>-0.123921</td>\n",
       "      <td>-0.400000</td>\n",
       "      <td>...</td>\n",
       "      <td>0</td>\n",
       "      <td>0</td>\n",
       "      <td>0</td>\n",
       "      <td>0</td>\n",
       "      <td>0</td>\n",
       "      <td>0</td>\n",
       "      <td>0</td>\n",
       "      <td>0</td>\n",
       "      <td>1</td>\n",
       "      <td>0</td>\n",
       "    </tr>\n",
       "    <tr>\n",
       "      <th>3</th>\n",
       "      <td>2.00</td>\n",
       "      <td>1.0</td>\n",
       "      <td>-0.189873</td>\n",
       "      <td>0.000000</td>\n",
       "      <td>0.0</td>\n",
       "      <td>0.428571</td>\n",
       "      <td>1.117856</td>\n",
       "      <td>-0.169014</td>\n",
       "      <td>-0.250791</td>\n",
       "      <td>0.000000</td>\n",
       "      <td>...</td>\n",
       "      <td>0</td>\n",
       "      <td>0</td>\n",
       "      <td>0</td>\n",
       "      <td>0</td>\n",
       "      <td>0</td>\n",
       "      <td>0</td>\n",
       "      <td>0</td>\n",
       "      <td>0</td>\n",
       "      <td>1</td>\n",
       "      <td>0</td>\n",
       "    </tr>\n",
       "    <tr>\n",
       "      <th>4</th>\n",
       "      <td>0.75</td>\n",
       "      <td>0.0</td>\n",
       "      <td>1.622714</td>\n",
       "      <td>36.450708</td>\n",
       "      <td>0.0</td>\n",
       "      <td>0.000000</td>\n",
       "      <td>0.844840</td>\n",
       "      <td>1.673239</td>\n",
       "      <td>1.526383</td>\n",
       "      <td>-0.244444</td>\n",
       "      <td>...</td>\n",
       "      <td>1</td>\n",
       "      <td>0</td>\n",
       "      <td>0</td>\n",
       "      <td>0</td>\n",
       "      <td>0</td>\n",
       "      <td>0</td>\n",
       "      <td>0</td>\n",
       "      <td>0</td>\n",
       "      <td>0</td>\n",
       "      <td>0</td>\n",
       "    </tr>\n",
       "  </tbody>\n",
       "</table>\n",
       "<p>5 rows × 37 columns</p>\n",
       "</div>"
      ],
      "text/plain": [
       "   JobsReatained  JobsCreated  GuaranteedApprovedLoan  ChargedOffAmount  \\\n",
       "0          -0.25          0.0                2.500000          0.000000   \n",
       "1          -0.25          6.0                2.466596         61.036835   \n",
       "2           0.75          0.0               -0.242616          0.000000   \n",
       "3           2.00          1.0               -0.189873          0.000000   \n",
       "4           0.75          0.0                1.622714         36.450708   \n",
       "\n",
       "   GrossAmountBalance  CountEmployees  ClassificationCode  LoanApprovedGross  \\\n",
       "0                 0.0        4.857143           -1.373083           2.366197   \n",
       "1                 0.0        0.285714            0.012315           2.574648   \n",
       "2                 0.0        0.000000            0.290236          -0.253521   \n",
       "3                 0.0        0.428571            1.117856          -0.169014   \n",
       "4                 0.0        0.000000            0.844840           1.673239   \n",
       "\n",
       "   GrossAmountDisbursed  LoanTerm  ...  RevolvingCreditLine_0  \\\n",
       "0              2.194861  0.000000  ...                      0   \n",
       "1              2.395948 -0.033333  ...                      1   \n",
       "2             -0.123921 -0.400000  ...                      0   \n",
       "3             -0.250791  0.000000  ...                      0   \n",
       "4              1.526383 -0.244444  ...                      1   \n",
       "\n",
       "   RevolvingCreditLine_1  RevolvingCreditLine_2  RevolvingCreditLine_4  \\\n",
       "0                      0                      0                      0   \n",
       "1                      0                      0                      0   \n",
       "2                      0                      0                      0   \n",
       "3                      0                      0                      0   \n",
       "4                      0                      0                      0   \n",
       "\n",
       "   RevolvingCreditLine_C  RevolvingCreditLine_No  RevolvingCreditLine_R  \\\n",
       "0                      0                       1                      0   \n",
       "1                      0                       0                      0   \n",
       "2                      0                       0                      0   \n",
       "3                      0                       0                      0   \n",
       "4                      0                       0                      0   \n",
       "\n",
       "   RevolvingCreditLine_T  RevolvingCreditLine_Yes  RevolvingCreditLine_`  \n",
       "0                      0                        0                      0  \n",
       "1                      0                        0                      0  \n",
       "2                      0                        1                      0  \n",
       "3                      0                        1                      0  \n",
       "4                      0                        0                      0  \n",
       "\n",
       "[5 rows x 37 columns]"
      ]
     },
     "execution_count": 81,
     "metadata": {},
     "output_type": "execute_result"
    }
   ],
   "source": [
    "# Creating dummy variables\n",
    "X = pd.get_dummies(X, drop_first = True)\n",
    "test = pd.get_dummies(test, drop_first = True)\n",
    "\n",
    "print(X.shape,Y.shape)\n",
    "X.head()"
   ]
  },
  {
   "cell_type": "code",
   "execution_count": 40,
   "id": "26003e3e",
   "metadata": {},
   "outputs": [],
   "source": [
    "# Creating Train/Test split. (Train: 80%/ Test:20%)\n",
    "X_train, X_test, y_train, y_test = train_test_split(X, Y, test_size = 0.20, random_state = 1, stratify = Y)"
   ]
  },
  {
   "cell_type": "code",
   "execution_count": 41,
   "id": "f4edde49",
   "metadata": {},
   "outputs": [
    {
     "name": "stdout",
     "output_type": "stream",
     "text": [
      "<class 'pandas.core.frame.DataFrame'>\n",
      "Int64Index: 84000 entries, 34002 to 19670\n",
      "Data columns (total 22 columns):\n",
      " #   Column                              Non-Null Count  Dtype  \n",
      "---  ------                              --------------  -----  \n",
      " 0   JobsReatained                       84000 non-null  float64\n",
      " 1   JobsCreated                         84000 non-null  float64\n",
      " 2   GuaranteedApprovedLoan              84000 non-null  float64\n",
      " 3   ChargedOffAmount                    84000 non-null  float64\n",
      " 4   GrossAmountBalance                  84000 non-null  float64\n",
      " 5   CountEmployees                      84000 non-null  float64\n",
      " 6   ClassificationCode                  84000 non-null  float64\n",
      " 7   LoanApprovedGross                   84000 non-null  float64\n",
      " 8   GrossAmountDisbursed                84000 non-null  float64\n",
      " 9   LoanTerm                            84000 non-null  float64\n",
      " 10  PrimaryLoanDigit                    84000 non-null  float64\n",
      " 11  Business_New                        84000 non-null  uint8  \n",
      " 12  LowDocumentationLoan_Yes            84000 non-null  uint8  \n",
      " 13  Demography_Undefined                84000 non-null  uint8  \n",
      " 14  Demography_Urban                    84000 non-null  uint8  \n",
      " 15  BorrowerState_EASTERN_REGION        84000 non-null  uint8  \n",
      " 16  BorrowerState_INDIA                 84000 non-null  uint8  \n",
      " 17  BorrowerState_NORTHERN_REGION       84000 non-null  uint8  \n",
      " 18  BorrowerState_NORTH_EASTERN_REGION  84000 non-null  uint8  \n",
      " 19  BorrowerState_SOUTHERN_REGION       84000 non-null  uint8  \n",
      " 20  BorrowerState_WESTERN_REGION        84000 non-null  uint8  \n",
      " 21  RevolvingCreditLine_Yes             84000 non-null  uint8  \n",
      "dtypes: float64(11), uint8(11)\n",
      "memory usage: 8.6 MB\n"
     ]
    }
   ],
   "source": [
    "X_train.info()"
   ]
  },
  {
   "cell_type": "code",
   "execution_count": 42,
   "id": "08028d5b",
   "metadata": {},
   "outputs": [
    {
     "name": "stdout",
     "output_type": "stream",
     "text": [
      "<class 'pandas.core.frame.DataFrame'>\n",
      "Int64Index: 21000 entries, 26301 to 28045\n",
      "Data columns (total 22 columns):\n",
      " #   Column                              Non-Null Count  Dtype  \n",
      "---  ------                              --------------  -----  \n",
      " 0   JobsReatained                       21000 non-null  float64\n",
      " 1   JobsCreated                         21000 non-null  float64\n",
      " 2   GuaranteedApprovedLoan              21000 non-null  float64\n",
      " 3   ChargedOffAmount                    21000 non-null  float64\n",
      " 4   GrossAmountBalance                  21000 non-null  float64\n",
      " 5   CountEmployees                      21000 non-null  float64\n",
      " 6   ClassificationCode                  21000 non-null  float64\n",
      " 7   LoanApprovedGross                   21000 non-null  float64\n",
      " 8   GrossAmountDisbursed                21000 non-null  float64\n",
      " 9   LoanTerm                            21000 non-null  float64\n",
      " 10  PrimaryLoanDigit                    21000 non-null  float64\n",
      " 11  Business_New                        21000 non-null  uint8  \n",
      " 12  LowDocumentationLoan_Yes            21000 non-null  uint8  \n",
      " 13  Demography_Undefined                21000 non-null  uint8  \n",
      " 14  Demography_Urban                    21000 non-null  uint8  \n",
      " 15  BorrowerState_EASTERN_REGION        21000 non-null  uint8  \n",
      " 16  BorrowerState_INDIA                 21000 non-null  uint8  \n",
      " 17  BorrowerState_NORTHERN_REGION       21000 non-null  uint8  \n",
      " 18  BorrowerState_NORTH_EASTERN_REGION  21000 non-null  uint8  \n",
      " 19  BorrowerState_SOUTHERN_REGION       21000 non-null  uint8  \n",
      " 20  BorrowerState_WESTERN_REGION        21000 non-null  uint8  \n",
      " 21  RevolvingCreditLine_Yes             21000 non-null  uint8  \n",
      "dtypes: float64(11), uint8(11)\n",
      "memory usage: 2.1 MB\n"
     ]
    }
   ],
   "source": [
    "X_test.info()"
   ]
  },
  {
   "cell_type": "markdown",
   "id": "1f0f6780",
   "metadata": {},
   "source": [
    "# Fitting Models "
   ]
  },
  {
   "cell_type": "markdown",
   "id": "273855a1",
   "metadata": {},
   "source": [
    "### Logistic Regression"
   ]
  },
  {
   "cell_type": "code",
   "execution_count": 43,
   "id": "07e39a33",
   "metadata": {},
   "outputs": [
    {
     "data": {
      "text/plain": [
       "34002    1\n",
       "45011    0\n",
       "59085    0\n",
       "85113    1\n",
       "16359    0\n",
       "        ..\n",
       "59234    0\n",
       "52778    0\n",
       "47627    1\n",
       "607      0\n",
       "19670    0\n",
       "Name: Default, Length: 84000, dtype: category\n",
       "Categories (2, int64): [0, 1]"
      ]
     },
     "execution_count": 43,
     "metadata": {},
     "output_type": "execute_result"
    }
   ],
   "source": [
    "y_train #.astype('string')"
   ]
  },
  {
   "cell_type": "code",
   "execution_count": 44,
   "id": "bc4c5015",
   "metadata": {},
   "outputs": [
    {
     "data": {
      "text/plain": [
       "LogisticRegression(class_weight={0: 2, 1: 8})"
      ]
     },
     "execution_count": 44,
     "metadata": {},
     "output_type": "execute_result"
    }
   ],
   "source": [
    "# Data set for Log\n",
    "\n",
    "X_train_log = X_train.loc[:,(X_train.dtypes == 'int') | (X_train.dtypes == 'float')]\n",
    "\n",
    "\n",
    "# Define Logistic Regression model \n",
    "log_reg = LogisticRegression(class_weight={0:2,1:8})# Write your code here\n",
    "\n",
    "# Fit the model --> Logistic REgression only takes numeric values \n",
    "log_reg.fit(X_train_log,y_train)"
   ]
  },
  {
   "cell_type": "code",
   "execution_count": 45,
   "id": "e16cdd1c",
   "metadata": {},
   "outputs": [
    {
     "data": {
      "image/png": "[encoded data removed]",
      "text/plain": [
       "<Figure size 576x360 with 1 Axes>"
      ]
     },
     "metadata": {},
     "output_type": "display_data"
    }
   ],
   "source": [
    "X_test_log = X_test.loc[:,(X_test.dtypes == 'int') | (X_test.dtypes == 'float')]\n",
    "AUC_ROC_Graph(model=log_reg,model_name='Logistic Regression',data=X_test_log)\n"
   ]
  },
  {
   "cell_type": "code",
   "execution_count": 46,
   "id": "6e3575b8",
   "metadata": {
    "scrolled": true
   },
   "outputs": [
    {
     "name": "stdout",
     "output_type": "stream",
     "text": [
      "Train Set\n",
      "              precision    recall  f1-score   support\n",
      "\n",
      "           0       0.99      0.99      0.99     60717\n",
      "           1       0.98      0.98      0.98     23283\n",
      "\n",
      "    accuracy                           0.99     84000\n",
      "   macro avg       0.99      0.99      0.99     84000\n",
      "weighted avg       0.99      0.99      0.99     84000\n",
      "\n"
     ]
    },
    {
     "data": {
      "image/png": "[encoded data removed]",
      "text/plain": [
       "<Figure size 576x360 with 2 Axes>"
      ]
     },
     "metadata": {},
     "output_type": "display_data"
    },
    {
     "name": "stdout",
     "output_type": "stream",
     "text": [
      "\n",
      "\n",
      "\n",
      "Test Set\n",
      "              precision    recall  f1-score   support\n",
      "\n",
      "           0       0.99      1.00      0.99     15179\n",
      "           1       0.99      0.98      0.99      5821\n",
      "\n",
      "    accuracy                           0.99     21000\n",
      "   macro avg       0.99      0.99      0.99     21000\n",
      "weighted avg       0.99      0.99      0.99     21000\n",
      "\n"
     ]
    },
    {
     "data": {
      "image/png": "[encoded data removed]",
      "text/plain": [
       "<Figure size 576x360 with 2 Axes>"
      ]
     },
     "metadata": {},
     "output_type": "display_data"
    }
   ],
   "source": [
    "# Checking the performance on the training data\n",
    "print(\"Train Set\")\n",
    "y_pred_train_log = log_reg.predict(X_train_log)\n",
    "metrics_score(y_train, y_pred_train_log)\n",
    "\n",
    "print(\"\\n\\n\")\n",
    "\n",
    "# Metric score for test dataset. \n",
    "print(\"Test Set\")\n",
    "y_pred_test = log_reg.predict(X_test_log)\n",
    "metrics_score(y_test, y_pred_test)"
   ]
  },
  {
   "cell_type": "code",
   "execution_count": 47,
   "id": "ad3786d0",
   "metadata": {},
   "outputs": [
    {
     "data": {
      "text/plain": [
       "(45000, 16)"
      ]
     },
     "execution_count": 47,
     "metadata": {},
     "output_type": "execute_result"
    }
   ],
   "source": [
    "test.shape"
   ]
  },
  {
   "cell_type": "code",
   "execution_count": 51,
   "id": "ebf00508",
   "metadata": {},
   "outputs": [
    {
     "name": "stdout",
     "output_type": "stream",
     "text": [
      "Hackathon Test Set Submission\n"
     ]
    },
    {
     "data": {
      "text/plain": [
       "array([1, 0, 1, ..., 0, 0, 0])"
      ]
     },
     "execution_count": 51,
     "metadata": {},
     "output_type": "execute_result"
    }
   ],
   "source": [
    "print(\"Hackathon Test Set Submission\")\n",
    "\n",
    "ID = range(105000,149999+1,1)\n",
    "\n",
    "test_log = test.loc[:,(test.dtypes == 'int') | (test.dtypes == 'float')]\n",
    "y_pred_test_log = log_reg.predict(test_log)\n",
    "y_pred_test_log\n",
    "\n"
   ]
  },
  {
   "cell_type": "code",
   "execution_count": 58,
   "id": "69cedea1",
   "metadata": {},
   "outputs": [],
   "source": [
    "Model_log = pd.DataFrame({'ID':ID,'Default':y_pred_test_log})\n",
    "Model_log.to_csv(\"Model_log.csv\", index=False)"
   ]
  },
  {
   "cell_type": "markdown",
   "id": "136c54fe",
   "metadata": {},
   "source": [
    "### K-Nearest Neighbors (K-NN"
   ]
  },
  {
   "cell_type": "code",
   "execution_count": 59,
   "id": "c30cd547",
   "metadata": {},
   "outputs": [
    {
     "name": "stdout",
     "output_type": "stream",
     "text": [
      "KNeighborsClassifier(n_neighbors=6, p=1, weights='distance')\n"
     ]
    }
   ],
   "source": [
    "# Using Grid Search to find the value of K and other hyperparameters\n",
    "knn = KNeighborsClassifier()\n",
    "\n",
    "params_knn = {'n_neighbors':np.arange(2, 20, 1), 'weights':['uniform','distance'], 'p':[1, 2]}\n",
    "\n",
    "grid_knn = GridSearchCV(estimator = knn, param_grid = params_knn, scoring = 'f1', cv = 10)\n",
    "\n",
    "model_knn = grid_knn.fit(X_train,y_train)\n",
    "\n",
    "knn_estimator = model_knn.best_estimator_\n",
    "\n",
    "print(knn_estimator)"
   ]
  },
  {
   "cell_type": "code",
   "execution_count": 60,
   "id": "d41287b0",
   "metadata": {},
   "outputs": [
    {
     "data": {
      "image/png": "[encoded data removed]",
      "text/plain": [
       "<Figure size 576x360 with 1 Axes>"
      ]
     },
     "metadata": {},
     "output_type": "display_data"
    }
   ],
   "source": [
    "AUC_ROC_Graph(model=knn_estimator,model_name='K-NN',data=X_test)\n",
    "# AUC: 0.99014"
   ]
  },
  {
   "cell_type": "code",
   "execution_count": 164,
   "id": "6732a8c4",
   "metadata": {
    "scrolled": true
   },
   "outputs": [],
   "source": [
    "print(\"Train Set\")\n",
    "y_pred_train_knn = knn_estimator.predict(X_train)\n",
    "metrics_score(y_train, y_pred_train_knn)\n",
    "\n",
    " \n",
    "print(\"\\n Test Set\")\n",
    "y_pred_test_knn = knn_estimator.predict(X_test)\n",
    "metrics_score(y_test, y_pred_test_knn)"
   ]
  },
  {
   "cell_type": "code",
   "execution_count": 70,
   "id": "76b4fb61",
   "metadata": {},
   "outputs": [],
   "source": [
    "y_pred_test_knn = knn_estimator.predict(test)\n",
    "y_pred_test_knn"
   ]
  },
  {
   "cell_type": "code",
   "execution_count": 71,
   "id": "51372bf0",
   "metadata": {},
   "outputs": [],
   "source": [
    "Model_knn = pd.DataFrame({'ID':ID,'Default':y_pred_test_knn})\n",
    "Model_knn.to_csv(\"Model_knn.csv\", index=False)"
   ]
  },
  {
   "cell_type": "markdown",
   "id": "3468a916",
   "metadata": {},
   "source": [
    "### XBG Classifier\n"
   ]
  },
  {
   "cell_type": "code",
   "execution_count": 157,
   "id": "e3adefb8",
   "metadata": {},
   "outputs": [
    {
     "name": "stdout",
     "output_type": "stream",
     "text": [
      "[10:46:19] WARNING: /Users/runner/work/xgboost/xgboost/python-package/build/temp.macosx-10.9-x86_64-cpython-37/xgboost/src/learner.cc:627: \n",
      "Parameters: { \"metric\", \"nrounds\" } might not be used.\n",
      "\n",
      "  This could be a false alarm, with some parameters getting used by language bindings but\n",
      "  then being mistakenly passed down to XGBoost core, or some parameter actually being used\n",
      "  but getting flagged wrongly here. Please open an issue if you find any such cases.\n",
      "\n",
      "\n"
     ]
    },
    {
     "data": {
      "text/plain": [
       "XGBClassifier(base_score=0.5, booster='gbtree', callbacks=None,\n",
       "              colsample_bylevel=1, colsample_bynode=1, colsample_bytree=0.5,\n",
       "              early_stopping_rounds=None, enable_categorical=False, eta=0.1,\n",
       "              eval_metric=None, gamma=0, gpu_id=-1, grow_policy='depthwise',\n",
       "              importance_type=None, interaction_constraints='',\n",
       "              learning_rate=0.1, max_bin=256, max_cat_to_onehot=4,\n",
       "              max_delta_step=0, max_depth=8, max_leaves=0,\n",
       "              metric='multi:softmax', min_child_weight=1, missing=nan,\n",
       "              monotone_constraints='()', n_estimators=140, n_jobs=4,\n",
       "              nrounds=1000, nthread=4, num_parallel_tree=1, ...)"
      ]
     },
     "execution_count": 157,
     "metadata": {},
     "output_type": "execute_result"
    }
   ],
   "source": [
    "base = xgb.XGBClassifier(eta=0.1,\n",
    "                      nrounds=1000,\n",
    "                      max_depth=8,\n",
    "                      colsample_bytree=0.5,\n",
    "                      scale_pos_weight=1.1,\n",
    "                      booster='gbtree',\n",
    "                      metric='multi:softmax',\n",
    "                      learning_rate =0.1,\n",
    "                      n_estimators=140,\n",
    "                      min_child_weight=1,\n",
    "                      gamma=0,\n",
    "                      subsample=0.8,\n",
    "                      objective= 'binary:logistic',\n",
    "                      nthread=4,\n",
    "                      )\n",
    "xgb1 = base\n",
    "xgb1.fit(X_train._get_numeric_data(), np.ravel(y_train, order='C'))"
   ]
  },
  {
   "cell_type": "code",
   "execution_count": 78,
   "id": "faf0a803",
   "metadata": {},
   "outputs": [
    {
     "data": {
      "image/png": "[encoded data removed]",
      "text/plain": [
       "<Figure size 576x360 with 1 Axes>"
      ]
     },
     "metadata": {},
     "output_type": "display_data"
    }
   ],
   "source": [
    "AUC_ROC_Graph(model=xgb1,model_name='XGB',data=X_test)\n"
   ]
  },
  {
   "cell_type": "code",
   "execution_count": 121,
   "id": "050779fd",
   "metadata": {
    "scrolled": true
   },
   "outputs": [
    {
     "name": "stdout",
     "output_type": "stream",
     "text": [
      "Train Set\n",
      "              precision    recall  f1-score   support\n",
      "\n",
      "           0       1.00      0.99      1.00     60717\n",
      "           1       0.98      1.00      0.99     23283\n",
      "\n",
      "    accuracy                           0.99     84000\n",
      "   macro avg       0.99      1.00      0.99     84000\n",
      "weighted avg       0.99      0.99      0.99     84000\n",
      "\n"
     ]
    },
    {
     "data": {
      "image/png": "[encoded data removed]",
      "text/plain": [
       "<Figure size 576x360 with 2 Axes>"
      ]
     },
     "metadata": {},
     "output_type": "display_data"
    },
    {
     "name": "stdout",
     "output_type": "stream",
     "text": [
      "Test Set\n",
      "              precision    recall  f1-score   support\n",
      "\n",
      "           0       1.00      0.99      1.00     15179\n",
      "           1       0.99      1.00      0.99      5821\n",
      "\n",
      "    accuracy                           0.99     21000\n",
      "   macro avg       0.99      0.99      0.99     21000\n",
      "weighted avg       0.99      0.99      0.99     21000\n",
      "\n"
     ]
    },
    {
     "data": {
      "image/png": "[encoded data removed]",
      "text/plain": [
       "<Figure size 576x360 with 2 Axes>"
      ]
     },
     "metadata": {},
     "output_type": "display_data"
    }
   ],
   "source": [
    "print(\"Train Set\")\n",
    "y_pred_train_xgb1 = xgb1.predict(X_train)\n",
    "metrics_score(y_train,y_pred_train_xgb1)\n",
    "\n",
    "print(\"Test Set\")\n",
    "y_pred_test_xgb1 = xgb1.predict(X_test)\n",
    "\n",
    "metrics_score(y_test,y_pred_test_xgb1)"
   ]
  },
  {
   "cell_type": "code",
   "execution_count": 92,
   "id": "6b20a752",
   "metadata": {},
   "outputs": [],
   "source": [
    "y_pred_test_xgb1 = xgb1.predict(test)\n",
    "y_pred_test_xgb1\n",
    "\n",
    "\n",
    "Model_xgb1 = pd.DataFrame({'ID':ID,'Default':y_pred_test_xgb1})\n",
    "Model_xgb1.to_csv(\"Model_xgb1.csv\", index=False)"
   ]
  },
  {
   "cell_type": "markdown",
   "id": "03695ee6",
   "metadata": {},
   "source": [
    "### Random Forest Model 1"
   ]
  },
  {
   "cell_type": "code",
   "execution_count": 84,
   "id": "0e6708e3",
   "metadata": {},
   "outputs": [
    {
     "data": {
      "text/plain": [
       "RandomForestClassifier(class_weight={0: 0.2, 1: 0.8}, random_state=1)"
      ]
     },
     "execution_count": 84,
     "metadata": {},
     "output_type": "execute_result"
    }
   ],
   "source": [
    "# Fitting the Random Forest classifier on the training data\n",
    "rf_estimator = RandomForestClassifier(class_weight = {0: 0.20, 1: 0.80}, random_state = 1)\n",
    "\n",
    "rf_estimator.fit(X_train, y_train)"
   ]
  },
  {
   "cell_type": "code",
   "execution_count": 85,
   "id": "458f71e9",
   "metadata": {
    "scrolled": true
   },
   "outputs": [
    {
     "name": "stdout",
     "output_type": "stream",
     "text": [
      "Train Set\n",
      "              precision    recall  f1-score   support\n",
      "\n",
      "           0       1.00      1.00      1.00     60717\n",
      "           1       1.00      1.00      1.00     23283\n",
      "\n",
      "    accuracy                           1.00     84000\n",
      "   macro avg       1.00      1.00      1.00     84000\n",
      "weighted avg       1.00      1.00      1.00     84000\n",
      "\n"
     ]
    },
    {
     "data": {
      "image/png": "[encoded data removed]",
      "text/plain": [
       "<Figure size 576x360 with 2 Axes>"
      ]
     },
     "metadata": {},
     "output_type": "display_data"
    },
    {
     "name": "stdout",
     "output_type": "stream",
     "text": [
      "Test Set\n",
      "              precision    recall  f1-score   support\n",
      "\n",
      "           0       1.00      0.99      1.00     15179\n",
      "           1       0.99      1.00      0.99      5821\n",
      "\n",
      "    accuracy                           0.99     21000\n",
      "   macro avg       0.99      0.99      0.99     21000\n",
      "weighted avg       0.99      0.99      0.99     21000\n",
      "\n"
     ]
    },
    {
     "data": {
      "image/png": "[encoded data removed]",
      "text/plain": [
       "<Figure size 576x360 with 2 Axes>"
      ]
     },
     "metadata": {},
     "output_type": "display_data"
    }
   ],
   "source": [
    "# Checking performance on the training data\n",
    "print(\"Train Set\")\n",
    "y_pred_train_rf = rf_estimator.predict(X_train)\n",
    "metrics_score(y_train, y_pred_train_rf)\n",
    "\n",
    "\n",
    "# Checking performance on the training data\n",
    "print(\"Test Set\")\n",
    "y_pred_test_rf = rf_estimator.predict(X_test)\n",
    "metrics_score(y_test, y_pred_test_rf)"
   ]
  },
  {
   "cell_type": "code",
   "execution_count": 174,
   "id": "d82db3c4",
   "metadata": {},
   "outputs": [
    {
     "data": {
      "image/png": "[encoded data removed]",
      "text/plain": [
       "<Figure size 576x360 with 1 Axes>"
      ]
     },
     "metadata": {},
     "output_type": "display_data"
    }
   ],
   "source": [
    "AUC_ROC_Graph(model=rf_estimator,model_name='Random Forest Model 1',data=X_test)\n"
   ]
  },
  {
   "cell_type": "code",
   "execution_count": 140,
   "id": "b2ac23b1",
   "metadata": {},
   "outputs": [
    {
     "data": {
      "text/plain": [
       "<AxesSubplot:xlabel='Importance'>"
      ]
     },
     "execution_count": 140,
     "metadata": {},
     "output_type": "execute_result"
    },
    {
     "data": {
      "image/png": "[encoded data removed]",
      "text/plain": [
       "<Figure size 936x936 with 1 Axes>"
      ]
     },
     "metadata": {},
     "output_type": "display_data"
    }
   ],
   "source": [
    "importances = rf_estimator.feature_importances_\n",
    "\n",
    "columns = X.columns\n",
    "\n",
    "importance_df = pd.DataFrame(importances, index = columns, columns = ['Importance']).sort_values(by = 'Importance', ascending = False)\n",
    "\n",
    "plt.figure(figsize = (13, 13))\n",
    "\n",
    "sns.barplot(importance_df.Importance, importance_df.index)"
   ]
  },
  {
   "cell_type": "code",
   "execution_count": 91,
   "id": "215511db",
   "metadata": {},
   "outputs": [],
   "source": [
    "y_pred_test_rf1 = rf_estimator.predict(test)\n",
    "y_pred_test_rf1\n",
    "\n",
    "\n",
    "Model_rf1 = pd.DataFrame({'ID':ID,'Default':y_pred_test_rf1})\n",
    "Model_rf1.to_csv(\"Model_rf1.csv\", index=False)"
   ]
  },
  {
   "cell_type": "markdown",
   "id": "280d411a",
   "metadata": {},
   "source": [
    "Notes: \n",
    "    - Using graphics from Random Forest to elminate predictors from training and test set. "
   ]
  },
  {
   "cell_type": "markdown",
   "id": "2ef16f70",
   "metadata": {},
   "source": [
    "### Constructing new train/test Set"
   ]
  },
  {
   "cell_type": "code",
   "execution_count": 208,
   "id": "7ca9a4e9",
   "metadata": {},
   "outputs": [
    {
     "data": {
      "text/plain": [
       "array(['ChargedOffAmount', 'LoanTerm', 'PrimaryLoanDigit',\n",
       "       'GuaranteedApprovedLoan', 'Demography_Undefined', 'JobsReatained',\n",
       "       'LoanApprovedGross', 'GrossAmountDisbursed', 'ClassificationCode',\n",
       "       'Demography_Urban', 'CountEmployees', 'RevolvingCreditLine_Yes',\n",
       "       'JobsCreated', 'Business_New'], dtype=object)"
      ]
     },
     "execution_count": 208,
     "metadata": {},
     "output_type": "execute_result"
    }
   ],
   "source": [
    "new_predictors =  importance_df.iloc[0:14,].index.values #importance_df.loc[importance_df['Importance']> 1.563040e-03,].index.values\n",
    "new_predictors\n",
    "# train[new_predictors]\n",
    "# Grabbing everything higher than BorrowerState_SOUTHERN_REGION"
   ]
  },
  {
   "cell_type": "code",
   "execution_count": 209,
   "id": "e28e6381",
   "metadata": {},
   "outputs": [],
   "source": [
    "X_train_mod2 = X_train[new_predictors]\n",
    "X_test_mod2 = X_test[new_predictors]\n",
    "test_mod2 = test[new_predictors]"
   ]
  },
  {
   "cell_type": "markdown",
   "id": "52b80337",
   "metadata": {},
   "source": [
    "## XGB Model 2"
   ]
  },
  {
   "cell_type": "code",
   "execution_count": 210,
   "id": "f49a26b2",
   "metadata": {},
   "outputs": [
    {
     "name": "stdout",
     "output_type": "stream",
     "text": [
      "[19:35:20] WARNING: /Users/runner/work/xgboost/xgboost/python-package/build/temp.macosx-10.9-x86_64-cpython-37/xgboost/src/learner.cc:627: \n",
      "Parameters: { \"metric\", \"nrounds\" } might not be used.\n",
      "\n",
      "  This could be a false alarm, with some parameters getting used by language bindings but\n",
      "  then being mistakenly passed down to XGBoost core, or some parameter actually being used\n",
      "  but getting flagged wrongly here. Please open an issue if you find any such cases.\n",
      "\n",
      "\n"
     ]
    },
    {
     "data": {
      "text/plain": [
       "XGBClassifier(base_score=0.5, booster='gbtree', callbacks=None,\n",
       "              colsample_bylevel=1, colsample_bynode=1, colsample_bytree=0.5,\n",
       "              early_stopping_rounds=None, enable_categorical=False, eta=0.1,\n",
       "              eval_metric=None, gamma=0, gpu_id=-1, grow_policy='depthwise',\n",
       "              importance_type=None, interaction_constraints='',\n",
       "              learning_rate=0.1, max_bin=256, max_cat_to_onehot=4,\n",
       "              max_delta_step=0, max_depth=8, max_leaves=0,\n",
       "              metric='multi:softmax', min_child_weight=1, missing=nan,\n",
       "              monotone_constraints='()', n_estimators=140, n_jobs=4,\n",
       "              nrounds=1500, nthread=4, num_parallel_tree=1, ...)"
      ]
     },
     "execution_count": 210,
     "metadata": {},
     "output_type": "execute_result"
    }
   ],
   "source": [
    "xgb2 = xgb.XGBClassifier(eta=0.1,\n",
    "                      nrounds=1500,\n",
    "                      max_depth=8,\n",
    "                      colsample_bytree=0.5,\n",
    "                      scale_pos_weight=1.1,\n",
    "                      booster='gbtree',\n",
    "                      metric='multi:softmax',\n",
    "                      learning_rate =0.1,\n",
    "                      n_estimators=140,\n",
    "                      min_child_weight=1,\n",
    "                      gamma=0,\n",
    "                      subsample=0.8,\n",
    "                      objective= 'binary:logistic',\n",
    "                      nthread=4,\n",
    "                      )\n",
    "\n",
    "\n",
    "xgb2.fit(X_train_mod2._get_numeric_data(), np.ravel(y_train, order='C'))"
   ]
  },
  {
   "cell_type": "code",
   "execution_count": 211,
   "id": "cc07c67b",
   "metadata": {},
   "outputs": [
    {
     "data": {
      "image/png": "[encoded data removed]",
      "text/plain": [
       "<Figure size 576x360 with 1 Axes>"
      ]
     },
     "metadata": {},
     "output_type": "display_data"
    }
   ],
   "source": [
    "AUC_ROC_Graph(model=xgb2,model_name='XGB Mod2',data=X_test_mod2)\n"
   ]
  },
  {
   "cell_type": "code",
   "execution_count": 185,
   "id": "8893e91c",
   "metadata": {
    "scrolled": true
   },
   "outputs": [
    {
     "name": "stdout",
     "output_type": "stream",
     "text": [
      "Train Set\n",
      "              precision    recall  f1-score   support\n",
      "\n",
      "           0       1.00      0.99      1.00     60717\n",
      "           1       0.98      1.00      0.99     23283\n",
      "\n",
      "    accuracy                           0.99     84000\n",
      "   macro avg       0.99      1.00      0.99     84000\n",
      "weighted avg       0.99      0.99      0.99     84000\n",
      "\n"
     ]
    },
    {
     "data": {
      "image/png": "[encoded data removed]",
      "text/plain": [
       "<Figure size 576x360 with 2 Axes>"
      ]
     },
     "metadata": {},
     "output_type": "display_data"
    },
    {
     "name": "stdout",
     "output_type": "stream",
     "text": [
      "Test Set\n",
      "              precision    recall  f1-score   support\n",
      "\n",
      "           0       1.00      0.99      1.00     15179\n",
      "           1       0.99      1.00      0.99      5821\n",
      "\n",
      "    accuracy                           0.99     21000\n",
      "   macro avg       0.99      0.99      0.99     21000\n",
      "weighted avg       0.99      0.99      0.99     21000\n",
      "\n"
     ]
    },
    {
     "data": {
      "image/png": "[encoded data removed]",
      "text/plain": [
       "<Figure size 576x360 with 2 Axes>"
      ]
     },
     "metadata": {},
     "output_type": "display_data"
    }
   ],
   "source": [
    "print(\"Train Set\")\n",
    "y_pred_train_xgb2 = xgb2.predict(X_train_mod2)\n",
    "metrics_score(y_train,y_pred_train_xgb2)\n",
    "\n",
    "print(\"Test Set\")\n",
    "y_pred_test_xgb2 = xgb2.predict(X_test_mod2)\n",
    "\n",
    "metrics_score(y_test,y_pred_test_xgb2)"
   ]
  },
  {
   "cell_type": "code",
   "execution_count": 186,
   "id": "ae639e72",
   "metadata": {},
   "outputs": [],
   "source": [
    "y_pred_test_xgb2 = xgb2.predict(test_mod2)\n",
    "y_pred_test_xgb2\n",
    "\n",
    "\n",
    "Model_xgb2 = pd.DataFrame({'ID':ID,'Default':y_pred_test_xgb2})\n",
    "Model_xgb2.to_csv(\"Model_xgb2.csv\", index=False)"
   ]
  },
  {
   "cell_type": "markdown",
   "id": "f70d0281",
   "metadata": {},
   "source": [
    "## XGB Model 3"
   ]
  },
  {
   "cell_type": "code",
   "execution_count": 187,
   "id": "079071f0",
   "metadata": {},
   "outputs": [
    {
     "name": "stdout",
     "output_type": "stream",
     "text": [
      "[19:25:00] WARNING: /Users/runner/work/xgboost/xgboost/python-package/build/temp.macosx-10.9-x86_64-cpython-37/xgboost/src/learner.cc:627: \n",
      "Parameters: { \"metric\", \"nrounds\" } might not be used.\n",
      "\n",
      "  This could be a false alarm, with some parameters getting used by language bindings but\n",
      "  then being mistakenly passed down to XGBoost core, or some parameter actually being used\n",
      "  but getting flagged wrongly here. Please open an issue if you find any such cases.\n",
      "\n",
      "\n"
     ]
    },
    {
     "data": {
      "text/plain": [
       "({'colsample_bytree': 0.75,\n",
       "  'gamma': 0.0,\n",
       "  'max_depth': 8,\n",
       "  'min_child_weight': 5,\n",
       "  'subsample': 0.75},\n",
       " 0.9981643735275686)"
      ]
     },
     "execution_count": 187,
     "metadata": {},
     "output_type": "execute_result"
    }
   ],
   "source": [
    "# Graid search with XGB \n",
    "\n",
    "kfold = KFold(n_splits=10) \n",
    "\n",
    "param_test1 = ({'colsample_bytree': [0.75],\n",
    "  'gamma': [0.0],\n",
    "  'max_depth': [8],\n",
    "  'min_child_weight': [5],\n",
    "  'subsample': [0.75]})\n",
    "\n",
    "#{\n",
    "#  'max_depth':range(3,10,2),\n",
    "#  'min_child_weight':range(1,6,2),\n",
    "#  'gamma':[(i/10.0) for i in range(0,5)],\n",
    "#  'subsample':[(i/100.0) for i in range(75,90,5)],\n",
    "#  'colsample_bytree':[(i/100.0) for i in range(75,90,5)]\n",
    "# }\n",
    "\n",
    "# AUC and accuracy as score\n",
    "scoring = {'AUC':'roc_auc', 'Accuracy':make_scorer(accuracy_score)}\n",
    "\n",
    "\n",
    "# Consider changing the n_jobs and cv to 10.\n",
    "\n",
    "gsearch1 = GridSearchCV(estimator = xgb2, \n",
    "                        param_grid = param_test1, \n",
    "                        scoring = scoring,\n",
    "                        n_jobs=10, \n",
    "                        refit='AUC',\n",
    "                        cv=kfold)\n",
    "gsearch1.fit(X_train._get_numeric_data(), np.ravel(y_train, order='C'))\n",
    "gsearch1.best_params_, gsearch1.best_score_"
   ]
  },
  {
   "cell_type": "code",
   "execution_count": 188,
   "id": "8ab66ea1",
   "metadata": {},
   "outputs": [
    {
     "data": {
      "image/png": "[encoded data removed]",
      "text/plain": [
       "<Figure size 576x360 with 1 Axes>"
      ]
     },
     "metadata": {},
     "output_type": "display_data"
    }
   ],
   "source": [
    "AUC_ROC_Graph(model=gsearch1,model_name='XGB Mod3 - Grid Search',data=X_test)\n"
   ]
  },
  {
   "cell_type": "code",
   "execution_count": 190,
   "id": "e95e43da",
   "metadata": {
    "scrolled": true
   },
   "outputs": [
    {
     "name": "stdout",
     "output_type": "stream",
     "text": [
      "Train Set\n",
      "              precision    recall  f1-score   support\n",
      "\n",
      "           0       1.00      0.99      1.00     60717\n",
      "           1       0.98      1.00      0.99     23283\n",
      "\n",
      "    accuracy                           0.99     84000\n",
      "   macro avg       0.99      0.99      0.99     84000\n",
      "weighted avg       0.99      0.99      0.99     84000\n",
      "\n"
     ]
    },
    {
     "data": {
      "image/png": "[encoded data removed]",
      "text/plain": [
       "<Figure size 576x360 with 2 Axes>"
      ]
     },
     "metadata": {},
     "output_type": "display_data"
    },
    {
     "name": "stdout",
     "output_type": "stream",
     "text": [
      "Test Set\n",
      "              precision    recall  f1-score   support\n",
      "\n",
      "           0       1.00      0.99      1.00     15179\n",
      "           1       0.99      1.00      0.99      5821\n",
      "\n",
      "    accuracy                           0.99     21000\n",
      "   macro avg       0.99      0.99      0.99     21000\n",
      "weighted avg       0.99      0.99      0.99     21000\n",
      "\n"
     ]
    },
    {
     "data": {
      "image/png": "[encoded data removed]",
      "text/plain": [
       "<Figure size 576x360 with 2 Axes>"
      ]
     },
     "metadata": {},
     "output_type": "display_data"
    }
   ],
   "source": [
    "print(\"Train Set\")\n",
    "y_pred_train_xbg_gs = gsearch1.predict(X_train)\n",
    "metrics_score(y_train,y_pred_train_xbg_gs)\n",
    "\n",
    "print(\"Test Set\")\n",
    "y_pred_test_xgb_gs = gsearch1.predict(X_test)\n",
    "metrics_score(y_test,y_pred_test_xgb_gs)"
   ]
  },
  {
   "cell_type": "code",
   "execution_count": 192,
   "id": "f82e4b97",
   "metadata": {},
   "outputs": [],
   "source": [
    "y_pred_test_gs1 = gsearch1.predict(test)\n",
    "y_pred_test_gs1\n",
    "\n",
    "\n",
    "Model_gs1 = pd.DataFrame({'ID':ID,'Default':y_pred_test_gs1})\n",
    "Model_gs1.to_csv(\"Model_gs1.csv\", index=False)"
   ]
  },
  {
   "cell_type": "markdown",
   "id": "2a082f06",
   "metadata": {},
   "source": [
    "### Random Forest Model 2"
   ]
  },
  {
   "cell_type": "code",
   "execution_count": 212,
   "id": "a175628b",
   "metadata": {},
   "outputs": [
    {
     "data": {
      "text/plain": [
       "RandomForestClassifier(class_weight={0: 0.2, 1: 0.8}, max_features=0.5,\n",
       "                       min_samples_leaf=2, n_estimators=1000, random_state=1)"
      ]
     },
     "execution_count": 212,
     "metadata": {},
     "output_type": "execute_result"
    }
   ],
   "source": [
    "# Choose the type of classifier\n",
    "rf_estimator_tuned = RandomForestClassifier(class_weight = {0: 0.20, 1: 0.80}, random_state = 1)\n",
    "\n",
    "# Grid of parameters to choose from\n",
    "params_rf = {  \n",
    "        \"n_estimators\": [1000, 1500],\n",
    "        \"min_samples_leaf\": np.arange(1, 4, 1),\n",
    "        \"max_features\": [0.5, 0.75, 'auto','log']\n",
    "}\n",
    "\n",
    "\n",
    "# Type of scoring used to compare parameter combinations - recall score for class 1\n",
    "scorer = metrics.make_scorer(recall_score, pos_label = 1)\n",
    "\n",
    "# Run the grid search\n",
    "grid_obj = GridSearchCV(rf_estimator_tuned, params_rf, scoring = scorer, cv = 5)\n",
    "\n",
    "grid_obj = grid_obj.fit(X_train, y_train)\n",
    "\n",
    "# Set the classifier to the best combination of parameters\n",
    "rf_estimator_tuned = grid_obj.best_estimator_\n",
    "\n",
    "# Fitting the model\n",
    "rf_estimator_tuned.fit(X_train, y_train)"
   ]
  },
  {
   "cell_type": "code",
   "execution_count": 214,
   "id": "01ff338b",
   "metadata": {},
   "outputs": [
    {
     "data": {
      "image/png": "[encoded data removed]",
      "text/plain": [
       "<Figure size 576x360 with 1 Axes>"
      ]
     },
     "metadata": {},
     "output_type": "display_data"
    }
   ],
   "source": [
    "AUC_ROC_Graph(model=rf_estimator_tuned,model_name='Random Forest (Hypertunned)',data=X_test)"
   ]
  },
  {
   "cell_type": "code",
   "execution_count": null,
   "id": "40382785",
   "metadata": {},
   "outputs": [],
   "source": [
    "# Checking performance on the training data\\\n",
    "print(\"Train Set\")\n",
    "y_pred_train_rf_tuned = rf_estimator_tuned.predict(X_train)\n",
    "metrics_score(y_train, y_pred_train_rf_tuned)\n",
    "              \n",
    "              \n",
    "# Checking performance on the test data\n",
    "print(\"Test Set\")\n",
    "y_pred_test_rf_tuned = rf_estimator_tuned.predict(X_test)\n",
    "metrics_score(y_test, y_pred_test_rf_tuned)"
   ]
  },
  {
   "cell_type": "code",
   "execution_count": null,
   "id": "f7983b04",
   "metadata": {},
   "outputs": [],
   "source": [
    "importances = rf_estimator_tuned.feature_importances_\n",
    "\n",
    "columns = X.columns\n",
    "\n",
    "importance_df = pd.DataFrame(importances, index = columns, columns = ['Importance']).sort_values(by = 'Importance', ascending = False)\n",
    "\n",
    "plt.figure(figsize = (13, 13))\n",
    "\n",
    "sns.barplot(importance_df.Importance, importance_df.index)"
   ]
  },
  {
   "cell_type": "code",
   "execution_count": null,
   "id": "54946f23",
   "metadata": {},
   "outputs": [],
   "source": [
    "y_pred_test_rf2 = rf_estimator_tuned.predict(test)\n",
    "y_pred_test_rf2\n",
    "\n",
    "\n",
    "Model_rf2 = pd.DataFrame({'ID':ID,'Default':y_pred_test_rf2})\n",
    "Model_rf2.to_csv(\"Model_rf2.csv\", index=False)"
   ]
  },
  {
   "cell_type": "code",
   "execution_count": null,
   "id": "7db0019e",
   "metadata": {},
   "outputs": [],
   "source": [
    "2"
   ]
  },
  {
   "cell_type": "code",
   "execution_count": null,
   "id": "ec860a56",
   "metadata": {},
   "outputs": [],
   "source": []
  }
 ],
 "metadata": {
  "kernelspec": {
   "display_name": "Python 3",
   "language": "python",
   "name": "python3"
  },
  "language_info": {
   "codemirror_mode": {
    "name": "ipython",
    "version": 3
   },
   "file_extension": ".py",
   "mimetype": "text/x-python",
   "name": "python",
   "nbconvert_exporter": "python",
   "pygments_lexer": "ipython3",
   "version": "3.7.11"
  }
 },
 "nbformat": 4,
 "nbformat_minor": 5
}
